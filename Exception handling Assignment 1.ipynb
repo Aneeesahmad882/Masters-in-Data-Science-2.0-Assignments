{
 "cells": [
  {
   "cell_type": "markdown",
   "id": "c57def6a-d3b9-45c5-995c-79611074536b",
   "metadata": {},
   "source": [
    "#Answer1\n",
    "In Python, an exception is an event that occurs during the execution of a program that disrupts the normal flow of instructions.\n",
    "When an exceptional condition arises, Python creates an exception object, which contains information about the error.\n",
    "This exception object is then \"raised\" and can be caught and handled by appropriate exception handling mechanisms.\n",
    "\n",
    "On the other hand, a syntax error is a type of error that occurs when the Python interpreter encounters invalid code syntax.\n",
    "It happens when the code violates the language's rules and cannot be parsed correctly.\n",
    "Syntax errors prevent the interpreter from running the program, and they need to be fixed before the code can be executed.\n",
    "\n",
    "Here are the key differences between exceptions and syntax errors:\n",
    "\n",
    "1-Cause:\n",
    "\n",
    "Exceptions: Exceptions occur at runtime when an unexpected condition or error arises during program execution.\n",
    "Syntax Errors: Syntax errors occur during the parsing of code before the execution, due to violations of the language's syntax rules.\n",
    "\n",
    "2-Occurrence:\n",
    "\n",
    "Exceptions: Exceptions occur when the code is running and encountering a problematic situation.\n",
    "Syntax Errors: Syntax errors occur before the code starts running, as the interpreter is parsing the code.\n",
    "\n",
    "3-Handling:\n",
    "\n",
    "Exceptions: Exceptions can be caught and handled using try-except blocks, allowing the program to gracefully recover from errors.\n",
    "Syntax Errors: Syntax errors must be fixed by correcting the code before it can be executed. They cannot be caught or handled at runtime.\n",
    "\n",
    "4-Program Execution:\n",
    "\n",
    "Exceptions: Exceptions disrupt the normal flow of the program and may cause the program to terminate if not handled properly.\n",
    "Syntax Errors: Syntax errors prevent the program from executing at all, as they are identified during the parsing phase."
   ]
  },
  {
   "cell_type": "markdown",
   "id": "50aa61ea-01ef-4dd8-b2c2-56701bdf6066",
   "metadata": {},
   "source": [
    "#Answer2\n",
    "When an exception is not handled in Python, it leads to an unhandled exception error. This error occurs when an exception is raised, but there is no code in place to catch and handle it. When this happens, the program's execution is halted, and an error message is displayed, indicating the type of exception that occurred and a traceback of the call stack.\n",
    "\n",
    "Here's an example to illustrate the scenario when an exception is not handled:"
   ]
  },
  {
   "cell_type": "code",
   "execution_count": 3,
   "id": "78a8d629-640c-49d1-9f9d-f11ecee839cd",
   "metadata": {},
   "outputs": [],
   "source": [
    "import logging\n",
    "\n",
    "def divide_numbers(a, b):\n",
    "    result = a / b\n",
    "    return result\n",
    "\n",
    "numerator = 10\n",
    "denominator = 0\n",
    "\n",
    "logging.basicConfig(filename='error.log', level=logging.ERROR)\n",
    "\n",
    "try:\n",
    "    result = divide_numbers(numerator, denominator)\n",
    "    print(\"Result:\", result)\n",
    "except Exception as e:\n",
    "    logging.exception(\"An exception occurred:\")"
   ]
  },
  {
   "cell_type": "markdown",
   "id": "1195379f-5a11-455b-87e9-899b9cc5c0d2",
   "metadata": {},
   "source": [
    "#Answer3\n",
    "In Python, the try-except statement is used to catch and handle exceptions, including logging the exception details.\n",
    "The try block contains the code that might raise an exception, and the except block specifies how to handle the exception if it occurs.\n",
    "The except block is executed only if an exception of the specified type is raised within the try block.\n",
    "\n",
    "Here's an example that demonstrates the usage of try-except to catch and handle exceptions, along with logging:"
   ]
  },
  {
   "cell_type": "code",
   "execution_count": 4,
   "id": "c07d6fec-a446-4575-9f34-b49ed91e4b6c",
   "metadata": {},
   "outputs": [],
   "source": [
    "import logging\n",
    "logging.basicConfig(filename = \"error.log\", level = logging.ERROR)\n",
    "try :\n",
    "    10/0\n",
    "except ZeroDivisionError as e :\n",
    "    logging.error(\"i am trying to handle a zerodivison error{}\".format(e) )"
   ]
  },
  {
   "cell_type": "markdown",
   "id": "5addb9cd-d5d8-4583-a6fe-3cd059a85fa3",
   "metadata": {},
   "source": [
    "#Answer4\n",
    "*try and else:\n",
    "Certainly! In Python, the try-except-else statement allows you to specify a block of code to be executed\n",
    "if no exceptions are raised within the try block. Here's an example that demonstrates the usage of try-except-else along with logging:"
   ]
  },
  {
   "cell_type": "code",
   "execution_count": 13,
   "id": "153e3414-d17a-49c7-8793-22c89a5616a2",
   "metadata": {},
   "outputs": [],
   "source": [
    "import logging\n",
    "logging.basicConfig(filename = \"error.log\", level = logging.ERROR)\n",
    "try :\n",
    "    f =open(\"text11.txt\" , 'r')\n",
    "    f.write(\"write into my file\")\n",
    "except Exception as e :\n",
    "    logging.error(\"this is my excep block \".format(e) )\n",
    "else :\n",
    "    f.close()\n",
    "    logging.error(\"this will be excuated one your try will execute without error\")"
   ]
  },
  {
   "cell_type": "markdown",
   "id": "8f54bbad-1406-4b83-9967-edc76a9dbb6e",
   "metadata": {},
   "source": [
    "*finally:\n",
    "Certainly! In Python, the try-finally statement is used to ensure that a block of code is always executed, regardless of whether an exception occurs or not. The finally block is executed after the try block, regardless of whether an exception was raised or caught. Here's an example that demonstrates the usage of try-finally:"
   ]
  },
  {
   "cell_type": "code",
   "execution_count": 34,
   "id": "b5e48c68-28cc-4029-98e7-a6d76638c307",
   "metadata": {},
   "outputs": [
    {
     "name": "stdout",
     "output_type": "stream",
     "text": [
      "finally will execute iteself in any satuation\n"
     ]
    },
    {
     "ename": "FileNotFoundError",
     "evalue": "[Errno 2] No such file or directory: 'test7.txt'",
     "output_type": "error",
     "traceback": [
      "\u001b[0;31m---------------------------------------------------------------------------\u001b[0m",
      "\u001b[0;31mFileNotFoundError\u001b[0m                         Traceback (most recent call last)",
      "Cell \u001b[0;32mIn[34], line 2\u001b[0m\n\u001b[1;32m      1\u001b[0m \u001b[38;5;28;01mtry\u001b[39;00m :\n\u001b[0;32m----> 2\u001b[0m     f \u001b[38;5;241m=\u001b[39m\u001b[38;5;28;43mopen\u001b[39;49m\u001b[43m(\u001b[49m\u001b[38;5;124;43m\"\u001b[39;49m\u001b[38;5;124;43mtest7.txt\u001b[39;49m\u001b[38;5;124;43m\"\u001b[39;49m\u001b[43m \u001b[49m\u001b[43m,\u001b[49m\u001b[43m \u001b[49m\u001b[38;5;124;43m'\u001b[39;49m\u001b[38;5;124;43mr\u001b[39;49m\u001b[38;5;124;43m'\u001b[39;49m\u001b[43m)\u001b[49m\n\u001b[1;32m      3\u001b[0m     f\u001b[38;5;241m.\u001b[39mwrite(\u001b[38;5;124m\"\u001b[39m\u001b[38;5;124mwrite something\u001b[39m\u001b[38;5;124m\"\u001b[39m)\n\u001b[1;32m      4\u001b[0m \u001b[38;5;28;01mfinally\u001b[39;00m :\n",
      "File \u001b[0;32m/opt/conda/lib/python3.10/site-packages/IPython/core/interactiveshell.py:282\u001b[0m, in \u001b[0;36m_modified_open\u001b[0;34m(file, *args, **kwargs)\u001b[0m\n\u001b[1;32m    275\u001b[0m \u001b[38;5;28;01mif\u001b[39;00m file \u001b[38;5;129;01min\u001b[39;00m {\u001b[38;5;241m0\u001b[39m, \u001b[38;5;241m1\u001b[39m, \u001b[38;5;241m2\u001b[39m}:\n\u001b[1;32m    276\u001b[0m     \u001b[38;5;28;01mraise\u001b[39;00m \u001b[38;5;167;01mValueError\u001b[39;00m(\n\u001b[1;32m    277\u001b[0m         \u001b[38;5;124mf\u001b[39m\u001b[38;5;124m\"\u001b[39m\u001b[38;5;124mIPython won\u001b[39m\u001b[38;5;124m'\u001b[39m\u001b[38;5;124mt let you open fd=\u001b[39m\u001b[38;5;132;01m{\u001b[39;00mfile\u001b[38;5;132;01m}\u001b[39;00m\u001b[38;5;124m by default \u001b[39m\u001b[38;5;124m\"\u001b[39m\n\u001b[1;32m    278\u001b[0m         \u001b[38;5;124m\"\u001b[39m\u001b[38;5;124mas it is likely to crash IPython. If you know what you are doing, \u001b[39m\u001b[38;5;124m\"\u001b[39m\n\u001b[1;32m    279\u001b[0m         \u001b[38;5;124m\"\u001b[39m\u001b[38;5;124myou can use builtins\u001b[39m\u001b[38;5;124m'\u001b[39m\u001b[38;5;124m open.\u001b[39m\u001b[38;5;124m\"\u001b[39m\n\u001b[1;32m    280\u001b[0m     )\n\u001b[0;32m--> 282\u001b[0m \u001b[38;5;28;01mreturn\u001b[39;00m \u001b[43mio_open\u001b[49m\u001b[43m(\u001b[49m\u001b[43mfile\u001b[49m\u001b[43m,\u001b[49m\u001b[43m \u001b[49m\u001b[38;5;241;43m*\u001b[39;49m\u001b[43margs\u001b[49m\u001b[43m,\u001b[49m\u001b[43m \u001b[49m\u001b[38;5;241;43m*\u001b[39;49m\u001b[38;5;241;43m*\u001b[39;49m\u001b[43mkwargs\u001b[49m\u001b[43m)\u001b[49m\n",
      "\u001b[0;31mFileNotFoundError\u001b[0m: [Errno 2] No such file or directory: 'test7.txt'"
     ]
    }
   ],
   "source": [
    "try :\n",
    "    f =open(\"test7.txt\" , 'r')\n",
    "    f.write(\"write something\")\n",
    "finally :\n",
    "    print(\"finally will execute iteself in any satuation\")"
   ]
  },
  {
   "cell_type": "markdown",
   "id": "cf05d82d-1648-458a-ab03-2ba8b4afc73f",
   "metadata": {},
   "source": [
    "*Raise:\n",
    "In Python, the raise statement is used to explicitly raise an exception.\n",
    "It allows you to indicate that a particular exception should be raised at a specific point in your code. \n",
    "You can also customize the exception by providing an exception class or an instance of an exception.\n",
    "Here's an example that demonstrates the usage of raise:"
   ]
  },
  {
   "cell_type": "code",
   "execution_count": 41,
   "id": "2022a8bc-6579-48ff-ba49-9408fcfbb51f",
   "metadata": {},
   "outputs": [
    {
     "name": "stdin",
     "output_type": "stream",
     "text": [
      "enter your age 55\n"
     ]
    },
    {
     "name": "stdout",
     "output_type": "stream",
     "text": [
      "age is valid\n"
     ]
    }
   ],
   "source": [
    "class validateage(Exception):\n",
    "    \n",
    "    def __init__(self,msg):\n",
    "        self.msg = msg\n",
    "def validateage(age):\n",
    "    if age <= 0 :\n",
    "        raise validateage(\"entered age is negative\")\n",
    "    elif age >= 200 :\n",
    "        raise validateage(\"entered age is very very high\")\n",
    "    else :\n",
    "        print(\"age is valid\")\n",
    "try :\n",
    "    age = int(input(\"enter your age\"))\n",
    "    validateage(age)\n",
    "except validateage as e :\n",
    "    print(e)"
   ]
  },
  {
   "cell_type": "markdown",
   "id": "c2ffb838-5837-49d7-93c8-476a37dec95f",
   "metadata": {},
   "source": [
    "#Answer5\n",
    "In Python, custom exceptions are user-defined exception classes that inherit from the base Exception class or any of its subclasses.\n",
    "They allow you to define your own specific exception types to handle exceptional conditions that are specific to your application or domain.\n",
    "Custom exceptions provide a way to differentiate between different types of errors and handle them accordingly.\n",
    "\n",
    "You might need custom exceptions in Python for the following reasons:\n",
    "\n",
    "1-Clarity and Readability: Custom exceptions can make your code more readable and self-explanatory.\n",
    "By defining custom exception classes, you can give meaningful names to specific exceptional conditions in your code,\n",
    "making it easier for developers to understand and handle those conditions.\n",
    "\n",
    "2-Error Handling: Custom exceptions allow you to handle different exceptional conditions separately.\n",
    "For example, you might want to handle a database connection error differently from a file access error.\n",
    "By using custom exceptions, you can raise and catch specific exceptions to provide targeted error handling and recovery mechanisms.\n",
    "\n",
    "3-Abstraction and Modularity: Custom exceptions help in abstracting and modularizing your code.\n",
    "You can encapsulate the logic related to a specific exceptional condition within a custom exception class.\n",
    "This improves code organization and makes it easier to maintain and extend in the future.\n",
    "\n",
    "Here's an example that illustrates the use of a custom exception:"
   ]
  },
  {
   "cell_type": "code",
   "execution_count": 44,
   "id": "b3e2851a-2831-4f9b-a00a-b77d33d9ae14",
   "metadata": {},
   "outputs": [],
   "source": [
    "class FileProcessingError(Exception):\n",
    "    pass\n",
    "\n",
    "def process_file(file_path):\n",
    "    try:\n",
    "        # Code to process the file\n",
    "        raise FileProcessingError(\"Error occurred while processing the file.\")\n",
    "    except FileProcessingError as e:\n",
    "        logging.exception(str(e))\n",
    "        raise\n",
    "\n",
    "logging.basicConfig(filename='error.log', level=logging.ERROR)\n",
    "\n",
    "try:\n",
    "    file_path = 'path/to/file.txt'\n",
    "    process_file(file_path)\n",
    "except FileProcessingError:\n",
    "    logging.error(\"File processing failed.\")"
   ]
  },
  {
   "cell_type": "markdown",
   "id": "c758fd08-d8b1-4e21-aee7-8734eb54ee31",
   "metadata": {},
   "source": [
    "#Answer6\n",
    "\n",
    "Certainly! Here's an example that demonstrates creating a custom exception class and using it to handle an exception:"
   ]
  },
  {
   "cell_type": "code",
   "execution_count": 49,
   "id": "7655bd26-56ed-4b58-93f5-d358939c191c",
   "metadata": {},
   "outputs": [],
   "source": [
    "import logging\n",
    "\n",
    "class CustomException(Exception):\n",
    "    pass\n",
    "\n",
    "def process_data(data):\n",
    "    if not data:\n",
    "        raise CustomException(\"Invalid data: Empty input.\")\n",
    "\n",
    "logging.basicConfig(filename='error.log', level=logging.ERROR)\n",
    "\n",
    "try:\n",
    "    input_data = None\n",
    "    process_data(input_data)\n",
    "except CustomException as e:\n",
    "    logging.exception(\"Exception occurred:\".format(e))"
   ]
  },
  {
   "cell_type": "code",
   "execution_count": null,
   "id": "9e53ff26-bf50-46c9-b9dd-2b0037214ae4",
   "metadata": {},
   "outputs": [],
   "source": []
  }
 ],
 "metadata": {
  "kernelspec": {
   "display_name": "Python 3 (ipykernel)",
   "language": "python",
   "name": "python3"
  },
  "language_info": {
   "codemirror_mode": {
    "name": "ipython",
    "version": 3
   },
   "file_extension": ".py",
   "mimetype": "text/x-python",
   "name": "python",
   "nbconvert_exporter": "python",
   "pygments_lexer": "ipython3",
   "version": "3.10.8"
  }
 },
 "nbformat": 4,
 "nbformat_minor": 5
}
