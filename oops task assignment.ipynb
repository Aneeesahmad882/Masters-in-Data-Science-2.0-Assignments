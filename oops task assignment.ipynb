{
 "cells": [
  {
   "cell_type": "markdown",
   "id": "88bfbd1a-6461-4b44-83f5-2771f5560f55",
   "metadata": {},
   "source": [
    "#Answer1\n",
    "\n",
    "Vehicle class in Python with an __init__ method that initializes instance variables for the name of the vehicle, maximum speed, and average speed:"
   ]
  },
  {
   "cell_type": "code",
   "execution_count": 106,
   "id": "6e3870e0-0075-44c3-96bb-fa18e9cc1a6d",
   "metadata": {},
   "outputs": [],
   "source": [
    "class vehcile:\n",
    "    \n",
    "    def __init__(self,name_of_vehcile,max_speed,average_of_vehcile):\n",
    "        \n",
    "        self.name_of_vehcile = name_of_vehcile\n",
    "        self.max_speed = max_speed\n",
    "        self.average_of_vehcile = average_of_vehcile\n",
    "    "
   ]
  },
  {
   "cell_type": "code",
   "execution_count": 107,
   "id": "1c8acc4c-3fe9-4c32-afc4-a41391983b38",
   "metadata": {},
   "outputs": [],
   "source": [
    "#You can create instances of the Vehicle class and access their attributes as follows:\n",
    "\n",
    "car = vehcile(\"Maruti\",120,20)"
   ]
  },
  {
   "cell_type": "code",
   "execution_count": 108,
   "id": "35b766ad-9d70-4b10-a71a-86c74c11f603",
   "metadata": {},
   "outputs": [
    {
     "data": {
      "text/plain": [
       "'Maruti'"
      ]
     },
     "execution_count": 108,
     "metadata": {},
     "output_type": "execute_result"
    }
   ],
   "source": [
    "car.name_of_vehcile"
   ]
  },
  {
   "cell_type": "code",
   "execution_count": 109,
   "id": "28b2911c-ced8-41e6-beb8-057f88c7b25f",
   "metadata": {},
   "outputs": [
    {
     "data": {
      "text/plain": [
       "120"
      ]
     },
     "execution_count": 109,
     "metadata": {},
     "output_type": "execute_result"
    }
   ],
   "source": [
    "car.max_speed"
   ]
  },
  {
   "cell_type": "code",
   "execution_count": 110,
   "id": "58d4b5e6-1e97-4d71-bd27-89520ba79feb",
   "metadata": {},
   "outputs": [
    {
     "data": {
      "text/plain": [
       "20"
      ]
     },
     "execution_count": 110,
     "metadata": {},
     "output_type": "execute_result"
    }
   ],
   "source": [
    "car.average_of_vehcile"
   ]
  },
  {
   "cell_type": "code",
   "execution_count": 116,
   "id": "759bba67-a446-4b52-bcc7-3b3ab5e8dd8c",
   "metadata": {},
   "outputs": [],
   "source": [
    "class vehcile:\n",
    "    \n",
    "    def __init__(self, name_of_vehcile,max_speed,average_of_vehcile):\n",
    "        \n",
    "        self.name_of_vehcile = name_of_vehcile\n",
    "        self.max_speed = max_speed\n",
    "        self.average_of_vehcile = average_of_vehcile\n",
    "    "
   ]
  },
  {
   "cell_type": "code",
   "execution_count": null,
   "id": "8ca9e666-7b16-408f-ae7d-db71fbf715d2",
   "metadata": {},
   "outputs": [],
   "source": [
    "Car = vehcile(\"Maruti\",150,20)"
   ]
  },
  {
   "cell_type": "code",
   "execution_count": 117,
   "id": "216b37e0-a507-4770-aef8-ab9f21419f27",
   "metadata": {},
   "outputs": [],
   "source": [
    "class Car(vehicle):\n",
    "    def seating_capacity(self, capacity):\n",
    "        return f\"The {self.name_of_vehicle} has a seating capacity of {capacity} people.\"\n"
   ]
  },
  {
   "cell_type": "code",
   "execution_count": null,
   "id": "5d52401b-3e4f-490a-ab94-3b6f43d340f6",
   "metadata": {},
   "outputs": [],
   "source": [
    "car = Car(\"Maruti\",150,20)\n",
    "capacity = 5\n",
    "result = car.seating_capacity(capacity)\n",
    "print(result) \n"
   ]
  },
  {
   "cell_type": "markdown",
   "id": "9ca1b3f0-89c7-4aa3-8151-2207b8d45c86",
   "metadata": {},
   "source": [
    "#Answer3\n",
    "Multiple inheritance is a feature in object-oriented programming\n",
    "where a class can inherit characteristics and behaviors from multiple parent classes.\n",
    "In Python, a class can inherit from multiple base classes by listing them inside the parentheses after the class name.\n",
    "\n",
    "Here's an example code that demonstrates multiple inheritance in Python:"
   ]
  },
  {
   "cell_type": "code",
   "execution_count": 122,
   "id": "4c13b0f3-9448-43df-bcd9-35a603de7b50",
   "metadata": {},
   "outputs": [
    {
     "name": "stdout",
     "output_type": "stream",
     "text": [
      "Flying Tesla is starting.\n",
      "Flying Tesla is driving.\n",
      "Flying Tesla is flying.\n",
      "Flying Tesla is stopping.\n"
     ]
    }
   ],
   "source": [
    "class Vehicle:\n",
    "    def __init__(self, name):\n",
    "        self.name = name\n",
    "\n",
    "    def start(self):\n",
    "        print(f\"{self.name} is starting.\")\n",
    "\n",
    "    def stop(self):\n",
    "        print(f\"{self.name} is stopping.\")\n",
    "\n",
    "\n",
    "class Flyable:\n",
    "    def fly(self):\n",
    "        print(f\"{self.name} is flying.\")\n",
    "\n",
    "\n",
    "class Car(Vehicle):\n",
    "    def drive(self):\n",
    "        print(f\"{self.name} is driving.\")\n",
    "\n",
    "\n",
    "class FlyingCar(Car, Flyable):\n",
    "    def __init__(self, name):\n",
    "        super().__init__(name)\n",
    "\n",
    "\n",
    "flying_car = FlyingCar(\"Flying Tesla\")\n",
    "flying_car.start()   \n",
    "flying_car.drive()   \n",
    "flying_car.fly()     \n",
    "flying_car.stop()"
   ]
  },
  {
   "cell_type": "markdown",
   "id": "f291e342-8138-437c-9e61-4590a22a5f57",
   "metadata": {},
   "source": [
    "#Answer4\n",
    "In Python, getters and setters are methods used to access and modify the values of class attributes (instance variables).\n",
    "They provide a way to encapsulate the access and modification of attribute values and allow for better control over the attribute's behavior.\n",
    "\n",
    "A getter method, also known as an accessor method, is used to retrieve the value of an attribute.\n",
    "It provides read-only access to the attribute and typically has the naming convention get_attribute_name().\n",
    "\n",
    "A setter method, also known as a mutator method, is used to modify the value of an attribute. It provides write access to the attribute and typically has the naming convention set_attribute_name(value).\n",
    "\n",
    "Here's an example of a class Person that includes a getter and a setter method for the name attribute:"
   ]
  },
  {
   "cell_type": "code",
   "execution_count": 42,
   "id": "bff93419-5c67-4d91-8fa8-ceaa05daf30e",
   "metadata": {},
   "outputs": [],
   "source": [
    "class pwskills :\n",
    "    \n",
    "    def __init__(self,course_price,course_name):\n",
    "        \n",
    "        self.__course_price = course_price\n",
    "        self.course_name = course_name\n",
    "        \n",
    "    @property\n",
    "    \n",
    "    def course_price_access(self):\n",
    "        return self.__course_price\n",
    "    \n",
    "    @course_price_access.setter\n",
    "    def course_price_set(self,price):\n",
    "        if price <= 3500:\n",
    "            pass\n",
    "        else:\n",
    "            self.__course_price = price\n",
    "        "
   ]
  },
  {
   "cell_type": "code",
   "execution_count": 43,
   "id": "1da94a7b-3ca1-4e34-8693-92abb1616bb5",
   "metadata": {},
   "outputs": [],
   "source": [
    "pw = pwskills(3500,\"data sciece masters\")"
   ]
  },
  {
   "cell_type": "code",
   "execution_count": 44,
   "id": "e3f2a65a-95a0-4f7f-ac9d-cfacf36615b9",
   "metadata": {},
   "outputs": [
    {
     "data": {
      "text/plain": [
       "3500"
      ]
     },
     "execution_count": 44,
     "metadata": {},
     "output_type": "execute_result"
    }
   ],
   "source": [
    "pw.course_price_access"
   ]
  },
  {
   "cell_type": "code",
   "execution_count": 45,
   "id": "8e067f65-f726-4556-b72d-9192b55882e0",
   "metadata": {},
   "outputs": [],
   "source": [
    "pw.course_price_set = 4500"
   ]
  },
  {
   "cell_type": "code",
   "execution_count": 46,
   "id": "8a136d7d-ff98-4c7e-b246-3887db03e479",
   "metadata": {},
   "outputs": [
    {
     "data": {
      "text/plain": [
       "4500"
      ]
     },
     "execution_count": 46,
     "metadata": {},
     "output_type": "execute_result"
    }
   ],
   "source": [
    "pw.course_price_access"
   ]
  },
  {
   "cell_type": "markdown",
   "id": "1b2577ab-edc4-41f3-9310-941e6a42eadd",
   "metadata": {},
   "source": [
    "#Answer5\n",
    "Method overriding is a concept in object-oriented programming where a subclass provides its own implementation\n",
    "of a method that is already defined in its superclass.\n",
    "This allows the subclass to modify or extend the behavior of the inherited method.\n",
    "\n",
    "In Python, method overriding occurs when a subclass defines a method with the same name as a method in its superclass. The subclass method is then said to override the superclass method.\n",
    "\n",
    "Here's an example code that demonstrates method overriding in Python:"
   ]
  },
  {
   "cell_type": "code",
   "execution_count": 47,
   "id": "c012dd59-84e7-440e-95ea-0d20665a844d",
   "metadata": {},
   "outputs": [
    {
     "name": "stdout",
     "output_type": "stream",
     "text": [
      "The animal makes a sound.\n",
      "The dog barks.\n"
     ]
    }
   ],
   "source": [
    "class Animal:\n",
    "    def make_sound(self):\n",
    "        print(\"The animal makes a sound.\")\n",
    "\n",
    "\n",
    "class Dog(Animal):\n",
    "    def make_sound(self):\n",
    "        print(\"The dog barks.\")\n",
    "\n",
    "\n",
    "animal = Animal()\n",
    "animal.make_sound()  \n",
    "dog = Dog()\n",
    "dog.make_sound()     \n"
   ]
  },
  {
   "cell_type": "code",
   "execution_count": null,
   "id": "a63c4e1e-e0a1-4a94-b543-f78e4ac0ffe4",
   "metadata": {},
   "outputs": [],
   "source": []
  }
 ],
 "metadata": {
  "kernelspec": {
   "display_name": "Python 3 (ipykernel)",
   "language": "python",
   "name": "python3"
  },
  "language_info": {
   "codemirror_mode": {
    "name": "ipython",
    "version": 3
   },
   "file_extension": ".py",
   "mimetype": "text/x-python",
   "name": "python",
   "nbconvert_exporter": "python",
   "pygments_lexer": "ipython3",
   "version": "3.10.8"
  }
 },
 "nbformat": 4,
 "nbformat_minor": 5
}
