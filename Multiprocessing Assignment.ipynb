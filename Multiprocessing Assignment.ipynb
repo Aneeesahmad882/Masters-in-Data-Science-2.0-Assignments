{
 "cells": [
  {
   "cell_type": "markdown",
   "id": "1c594b77-f3f5-4f4b-8b49-c4d40d95718b",
   "metadata": {},
   "source": [
    "#Answer1\n",
    "In Python, multiprocessing refers to a module and programming technique that allows the execution of multiple processes concurrently.\n",
    "It enables you to leverage the capabilities of multi-core processors and distribute the workload across them, \n",
    "thereby achieving parallelism and potentially speeding up the execution of CPU-intensive tasks.\n",
    "\n",
    "The multiprocessing module in Python provides an interface to create and manage processes, similar to the threading module,\n",
    "but with a few key differences. While threads run within a single process and share the same memory space,\n",
    "processes have their own memory space, making them independent of each other.\n",
    "This characteristic ensures that processes do not interfere with each other's data, enhancing reliability and safety.\n",
    "\n",
    "Here are some reasons why multiprocessing is useful:\n",
    "\n",
    "1-Increased performance: By utilizing multiple processes, multiprocessing allows you to divide a complex task into smaller parts and execute them concurrently. This can lead to significant speed improvements, especially for computationally intensive operations that can be parallelized.\n",
    "\n",
    "2-Efficient utilization of CPU cores: Modern computers often have multiple CPU cores, and multiprocessing allows you to leverage this hardware capability effectively. By distributing the workload across cores, you can make the most out of your system's resources and reduce overall processing time.\n",
    "\n",
    "3-Improved responsiveness: When performing tasks that involve waiting for I/O operations, such as reading from or writing to files or interacting with a network, multiprocessing can enhance responsiveness. By executing these I/O-bound tasks concurrently, you can minimize the waiting time and keep the program more interactive.\n",
    "\n",
    "4-Fault isolation: Since each process runs in its own memory space, issues like memory leaks or crashes in one process do not affect the others. This isolation improves the robustness of the overall system, as failures in one process can be contained without disrupting the entire application.\n",
    "\n",
    "5-Compatibility with certain libraries: Some Python libraries are designed to take advantage of multiprocessing for parallel execution.\n",
    "For example, the popular scientific computing library NumPy can utilize multiprocessing to speed up operations on large arrays."
   ]
  },
  {
   "cell_type": "markdown",
   "id": "a92711fb-c0a2-4012-bccd-cce25bce7dfb",
   "metadata": {},
   "source": [
    "#Answer2\n",
    "Multiprocessing and multithreading are both techniques used to achieve concurrent execution in Python,\n",
    "but they differ in several key aspects. Here are the main differences between multiprocessing and multithreading:\n",
    "\n",
    "1-Memory and Process Isolation:\n",
    "\n",
    "Multiprocessing: Each process has its own memory space, which means they do not share memory by default.\n",
    "Communication between processes usually requires explicit data exchange mechanisms like inter-process communication (IPC).\n",
    "Multithreading: Threads run within a single process and share the same memory space. They can access and modify the same variables and data structures without explicit synchronization.\n",
    "\n",
    "2-CPU Utilization:\n",
    "\n",
    "Multiprocessing: Processes can run on separate CPU cores, allowing for parallel execution and efficient utilization of multi-core systems. This is beneficial for CPU-bound tasks that can be divided into smaller chunks.\n",
    "Multithreading: Threads run within the same process, so they generally share the same CPU core(s) and time-slice the CPU.\n",
    "While they can achieve concurrency and improve responsiveness for I/O-bound tasks,\n",
    "they might not fully utilize multiple cores for CPU-bound tasks due to the Global Interpreter Lock (GIL) in CPython,\n",
    "which allows only one thread to execute Python bytecode at a time.\n",
    "\n",
    "3-Overhead:\n",
    "\n",
    "Multiprocessing: Creating and managing processes typically incurs more overhead compared to threads. Spawning a new process involves duplicating the memory space, which requires more system resources and time.\n",
    "Multithreading: Threads have lower overhead because they share the same memory space. Creating a new thread is generally faster than spawning a new process.\n",
    "\n",
    "4-Communication and Synchronization:\n",
    "\n",
    "Multiprocessing: Processes communicate with each other through explicit mechanisms like pipes, queues, shared memory, or sockets. Synchronization mechanisms like locks or semaphores are necessary to coordinate access to shared resources.\n",
    "Multithreading: Threads can communicate more easily since they share the same memory. However, this shared memory can lead to synchronization challenges and potential race conditions. Synchronization primitives like locks, semaphores, and condition variables are used to coordinate access to shared resources.\n",
    "\n",
    "5-Fault Isolation:\n",
    "\n",
    "Multiprocessing: Since processes have separate memory spaces, failures or crashes in one process generally do not affect others. Processes are more fault-isolated, enhancing the overall stability of the system.\n",
    "Multithreading: Threads share the same memory space, so issues like memory leaks or crashes in one thread can potentially affect the entire process. Care must be taken to handle exceptions and ensure proper synchronization to maintain stability."
   ]
  },
  {
   "cell_type": "code",
   "execution_count": 22,
   "id": "fd186ba3-d24e-42c3-910f-490404a75202",
   "metadata": {},
   "outputs": [
    {
     "name": "stdout",
     "output_type": "stream",
     "text": [
      "this is my child process\n",
      "Parent process contineus execution\n"
     ]
    }
   ],
   "source": [
    "#Answer3\n",
    "import multiprocessing\n",
    "if __name__ == '__main__':\n",
    "    def my_process():\n",
    "        print(\"this is my child process\")\n",
    "        \n",
    "    process = multiprocessing.Process(target = my_process)\n",
    "        \n",
    "    process.start()\n",
    "    process.join()\n",
    "            \n",
    "    print(\"Parent process contineus execution\")\n"
   ]
  },
  {
   "cell_type": "markdown",
   "id": "fcadb329-71f1-4b72-9df0-d5442c736189",
   "metadata": {},
   "source": [
    "#Answer4\n",
    "In Python, a multiprocessing pool refers to a mechanism provided by the multiprocessing module to manage a pool of worker processes.\n",
    "It allows you to distribute tasks among multiple processes efficiently, maximizing the utilization of available CPU cores.\n",
    "\n",
    "The multiprocessing.Pool class provides a high-level interface to create a pool of worker processes.\n",
    "It abstracts away the complexity of managing individual processes, enabling you to focus on parallelizing the execution of tasks.\n",
    "\n",
    "Here are some key aspects and benefits of using a multiprocessing pool:\n",
    "\n",
    "1-Task Parallelism: A multiprocessing pool is designed to handle parallel execution of tasks. You can submit multiple tasks to the pool, and the pool automatically distributes them among the available worker processes. This enables concurrent execution of tasks, potentially speeding up the overall processing time.\n",
    "\n",
    "2-Load Balancing: The pool dynamically assigns tasks to worker processes, ensuring that the workload is evenly distributed. It automatically manages the task queue and workload balancing, taking advantage of available resources and optimizing performance.\n",
    "\n",
    "3-Process Recycling: The worker processes in a pool are recycled, meaning they are reused for executing multiple tasks. This avoids the overhead of creating and terminating processes for each task, making the process creation and teardown more efficient.\n",
    "\n",
    "4-Improved Resource Utilization: A multiprocessing pool allows you to leverage the full power of multi-core processors. By utilizing multiple processes, you can distribute the workload across CPU cores, making efficient use of available resources. This can lead to significant performance improvements for CPU-bound tasks.\n",
    "\n",
    "5-Simplified API: The multiprocessing.Pool class provides a simple and intuitive interface for submitting tasks to the pool and obtaining results. You can use methods like apply(), map(), or imap() to execute functions or methods in parallel and retrieve the results conveniently.\n",
    "\n",
    "6-Graceful Error Handling: The multiprocessing pool handles errors in worker processes gracefully. It catches exceptions raised during task execution and propagates them back to the main process, allowing you to handle errors and exceptions robustly.\n",
    "\n",
    "7-Context Manager Support: The multiprocessing.Pool class supports the context manager protocol. This means you can use it with the with statement, ensuring proper resource cleanup and termination of worker processes even if an exception occurs."
   ]
  },
  {
   "cell_type": "code",
   "execution_count": 19,
   "id": "952a10c6-1cd6-49ea-9e09-a7c6527abdf3",
   "metadata": {},
   "outputs": [
    {
     "name": "stdout",
     "output_type": "stream",
     "text": [
      "[1, 8, 27, 64, 125, 216]\n"
     ]
    }
   ],
   "source": [
    "#exapmle\n",
    "def cubes(n):\n",
    "       return n**3\n",
    "if __name__ == '__main__':\n",
    "    with multiprocessing.Pool(processes=10) as pool :\n",
    "        out=pool.map(cubes,[1,2,3,4,5,6])\n",
    "        print(out)\n",
    "    "
   ]
  },
  {
   "cell_type": "markdown",
   "id": "7328652f-19a5-4a0e-8f67-b74843b9d9a6",
   "metadata": {},
   "source": [
    "#Answer5\n",
    "To create a pool of worker processes in Python using the multiprocessing module, you can utilize the multiprocessing.\n",
    "Pool class. Here's an example of how to create and use a multiprocessing pool:"
   ]
  },
  {
   "cell_type": "code",
   "execution_count": 21,
   "id": "7d18fdc7-0844-4ae4-a152-f53bc0954988",
   "metadata": {},
   "outputs": [
    {
     "name": "stdout",
     "output_type": "stream",
     "text": [
      "[0, 1, 4, 9, 16, 25, 36, 49, 64, 81]\n"
     ]
    }
   ],
   "source": [
    "import multiprocessing\n",
    "\n",
    "def square(x):\n",
    "    # Perform some computation or task\n",
    "    return x**2\n",
    "\n",
    "if __name__ == '__main__':\n",
    "    # Create a multiprocessing pool with 4 worker processes\n",
    "    pool = multiprocessing.Pool(processes=4)\n",
    "\n",
    "    # Submit tasks to the pool using different methods\n",
    "    results = pool.map(square, range(10))  # Synchronous blocking call\n",
    "\n",
    "    # Close the pool and prevent any new tasks from being submitted\n",
    "    pool.close()\n",
    "\n",
    "    # Wait for the worker processes to complete\n",
    "    pool.join()\n",
    "\n",
    "    # Print the results\n",
    "    print(results)"
   ]
  },
  {
   "cell_type": "code",
   "execution_count": 1,
   "id": "717bad45-4ed3-4841-901d-6f22c6ee35ac",
   "metadata": {},
   "outputs": [
    {
     "name": "stdout",
     "output_type": "stream",
     "text": [
      "1\n",
      "2\n",
      "3\n",
      "4\n",
      "All number printing is complete\n"
     ]
    }
   ],
   "source": [
    "#Answer6\n",
    "import multiprocessing\n",
    "\n",
    "def print_number1():\n",
    "    print(\"1\")\n",
    "def print_number2():\n",
    "    print(\"2\")\n",
    "def print_number3():\n",
    "    print(\"3\")\n",
    "def print_number4():\n",
    "    print(\"4\")\n",
    "\n",
    "if __name__ == '__main__':\n",
    "    \n",
    "    process1 = multiprocessing.Process(target=print_number1)\n",
    "    process2 = multiprocessing.Process(target=print_number2)\n",
    "    process3 = multiprocessing.Process(target=print_number3)\n",
    "    process4 = multiprocessing.Process(target=print_number4)\n",
    "    process1.start()\n",
    "    process1.join()\n",
    "    process2.start()\n",
    "    process2.join()\n",
    "    process3.start()\n",
    "    process3.join()\n",
    "    process4.start()\n",
    "    process4.join()\n",
    "print(\"All number printing is complete\")"
   ]
  },
  {
   "cell_type": "code",
   "execution_count": null,
   "id": "bb2f09c4-4306-44f6-8c3d-ede95aeb59c5",
   "metadata": {},
   "outputs": [],
   "source": []
  }
 ],
 "metadata": {
  "kernelspec": {
   "display_name": "Python 3 (ipykernel)",
   "language": "python",
   "name": "python3"
  },
  "language_info": {
   "codemirror_mode": {
    "name": "ipython",
    "version": 3
   },
   "file_extension": ".py",
   "mimetype": "text/x-python",
   "name": "python",
   "nbconvert_exporter": "python",
   "pygments_lexer": "ipython3",
   "version": "3.10.8"
  }
 },
 "nbformat": 4,
 "nbformat_minor": 5
}
