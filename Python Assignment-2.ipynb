{
 "cells": [
  {
   "cell_type": "code",
   "execution_count": 9,
   "id": "69da0b18-a0a6-4a17-903f-80a5716085e0",
   "metadata": {},
   "outputs": [
    {
     "name": "stdout",
     "output_type": "stream",
     "text": [
      "('Virat Kohli', 24936)\n",
      "('Jack Kallis', 25534)\n",
      "('Ricky Ponting', 27483)\n",
      "('Sachin Tendulkar', 34357)\n"
     ]
    }
   ],
   "source": [
    "#Answer1\n",
    "\n",
    "# Given list of tuples\n",
    "l = [('Sachin Tendulkar', 34357), ('Ricky Ponting', 27483), ('Jack Kallis', 25534), ('Virat Kohli', 24936)]\n",
    "\n",
    "# Sort the list based on the integer value using a lambda function\n",
    "sorted_list = sorted(l, key=lambda x: x[1])\n",
    "\n",
    "# Print the sorted list\n",
    "for item in sorted_list:\n",
    "    print(item)\n"
   ]
  },
  {
   "cell_type": "code",
   "execution_count": 13,
   "id": "edb9bcc9-3666-4eeb-99ee-23931d1211fb",
   "metadata": {},
   "outputs": [],
   "source": [
    "#Answer2\n",
    "\n",
    "l = [1, 2, 3, 4, 5, 6, 7, 8, 9, 10]"
   ]
  },
  {
   "cell_type": "code",
   "execution_count": 14,
   "id": "29b0b9e3-6367-46ff-a452-75dcf0bc7bf4",
   "metadata": {},
   "outputs": [
    {
     "data": {
      "text/plain": [
       "[1, 4, 9, 16, 25, 36, 49, 64, 81, 100]"
      ]
     },
     "execution_count": 14,
     "metadata": {},
     "output_type": "execute_result"
    }
   ],
   "source": [
    "list(map(lambda x : x**2,l))"
   ]
  },
  {
   "cell_type": "code",
   "execution_count": 24,
   "id": "33bbacf0-97aa-452b-8cf6-766112a3fa3e",
   "metadata": {},
   "outputs": [
    {
     "data": {
      "text/plain": [
       "('1', '2', '3', '4', '5', '6', '7', '8', '9', '10')"
      ]
     },
     "execution_count": 24,
     "metadata": {},
     "output_type": "execute_result"
    }
   ],
   "source": [
    "#Answer3\n",
    "\n",
    "#list \n",
    "l: [1, 2, 3, 4, 5, 6, 7, 8, 9, 10]\n",
    "tuple(map(lambda x : str(x),l))"
   ]
  },
  {
   "cell_type": "code",
   "execution_count": 39,
   "id": "97059883-442b-4239-be40-1bba868bf440",
   "metadata": {},
   "outputs": [],
   "source": [
    "#Answer4\n",
    "\n",
    "#a python program using reduce function to compute the product of a list containing numbers from 1 to 25.\n",
    "\n",
    "l=range(1,26)"
   ]
  },
  {
   "cell_type": "code",
   "execution_count": 46,
   "id": "9601ac00-4963-4188-b77b-20b4b12f24de",
   "metadata": {},
   "outputs": [
    {
     "name": "stdout",
     "output_type": "stream",
     "text": [
      "Product: 15511210043330985984000000\n"
     ]
    }
   ],
   "source": [
    "from functools import reduce\n",
    "product=reduce(lambda x,y : x*y,l)\n",
    "print(\"Product:\" ,product)\n"
   ]
  },
  {
   "cell_type": "code",
   "execution_count": 51,
   "id": "ce52b604-fd6a-4181-a4a7-efbe527b43e6",
   "metadata": {},
   "outputs": [],
   "source": [
    "#Answer5\n",
    "\n",
    "#A python program to filter the numbers in a given list that are divisible by 2 and 3 using the filter function.\n",
    "l = [2, 3, 6, 9, 27, 60, 90, 120, 55, 46]"
   ]
  },
  {
   "cell_type": "code",
   "execution_count": 52,
   "id": "63e469e2-e0ed-4884-b209-c9d4a7526ef2",
   "metadata": {},
   "outputs": [
    {
     "data": {
      "text/plain": [
       "[6, 60, 90, 120]"
      ]
     },
     "execution_count": 52,
     "metadata": {},
     "output_type": "execute_result"
    }
   ],
   "source": [
    "list(filter(lambda x : x % 2 == 0 and x % 3 ==0 , l))"
   ]
  },
  {
   "cell_type": "code",
   "execution_count": 53,
   "id": "218084df-f8c0-4f15-8f44-c18f28bed715",
   "metadata": {},
   "outputs": [],
   "source": [
    "#Answer6\n",
    "\n",
    "#a python program to find palindromes in the given list of strings using lambda and filter function.\n",
    "l= ['python', 'php', 'aba', 'radar', 'level']\n"
   ]
  },
  {
   "cell_type": "code",
   "execution_count": 57,
   "id": "f209161e-44fd-42a2-bf86-205b0e43946d",
   "metadata": {},
   "outputs": [
    {
     "name": "stdout",
     "output_type": "stream",
     "text": [
      "Palindromes: ['php', 'aba', 'radar', 'level']\n"
     ]
    }
   ],
   "source": [
    "palindromes = list(filter(lambda word: word == word[::-1], l))\n",
    "\n",
    "print(\"Palindromes:\", palindromes)"
   ]
  }
 ],
 "metadata": {
  "kernelspec": {
   "display_name": "Python 3 (ipykernel)",
   "language": "python",
   "name": "python3"
  },
  "language_info": {
   "codemirror_mode": {
    "name": "ipython",
    "version": 3
   },
   "file_extension": ".py",
   "mimetype": "text/x-python",
   "name": "python",
   "nbconvert_exporter": "python",
   "pygments_lexer": "ipython3",
   "version": "3.10.8"
  }
 },
 "nbformat": 4,
 "nbformat_minor": 5
}
