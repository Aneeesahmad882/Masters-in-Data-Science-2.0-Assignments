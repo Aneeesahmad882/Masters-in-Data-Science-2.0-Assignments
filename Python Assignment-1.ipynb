{
 "cells": [
  {
   "cell_type": "markdown",
   "id": "06246df5-9f0b-41d3-978f-2bc0cbfb7954",
   "metadata": {},
   "source": [
    "#Answer1\n",
    "\n",
    "The keyword used to create a function ins Python Programming language, is \"def.\"\n",
    "To create a Python function that returns a list of odd numbers in the range of 1 to 25:"
   ]
  },
  {
   "cell_type": "code",
   "execution_count": 25,
   "id": "e8b854ca-2e6a-4b30-bb45-7f9de05f543e",
   "metadata": {},
   "outputs": [],
   "source": [
    "def get_odd_numbers():\n",
    "    odd_numbers = []\n",
    "    for i in range(1,26):\n",
    "        if i % 2 != 0 :\n",
    "            odd_numbers.append(i)\n",
    "    return odd_numbers"
   ]
  },
  {
   "cell_type": "code",
   "execution_count": 29,
   "id": "a9a4dd23-f1c7-4280-bf1b-ba4725644a63",
   "metadata": {},
   "outputs": [
    {
     "data": {
      "text/plain": [
       "[1, 3, 5, 7, 9, 11, 13, 15, 17, 19, 21, 23, 25]"
      ]
     },
     "execution_count": 29,
     "metadata": {},
     "output_type": "execute_result"
    }
   ],
   "source": [
    "get_odd_numbers()"
   ]
  },
  {
   "cell_type": "markdown",
   "id": "3452088d-1390-46ce-b449-9ac0fb3686af",
   "metadata": {},
   "source": [
    "#Answer2\n",
    "\n",
    "In Python, *args and **kwargs are used to pass a variable number of arguments to a function.\n",
    "#The *args syntax allows you to pass a variable number of positional arguments to a function. It collects all the additional positional arguments as a tuple, which can be accessed within the function. Here's an example of a function that uses *args:"
   ]
  },
  {
   "cell_type": "code",
   "execution_count": 30,
   "id": "eb37c7b9-67c2-4ab1-908d-537ce3e7a42b",
   "metadata": {},
   "outputs": [],
   "source": [
    "def add_numbers(*args):\n",
    "    total = 0\n",
    "    for num in args:\n",
    "        total += num\n",
    "    return total\n"
   ]
  },
  {
   "cell_type": "code",
   "execution_count": 31,
   "id": "407c9899-1b73-4354-8421-22f82c35ca8d",
   "metadata": {},
   "outputs": [
    {
     "data": {
      "text/plain": [
       "45"
      ]
     },
     "execution_count": 31,
     "metadata": {},
     "output_type": "execute_result"
    }
   ],
   "source": [
    "add_numbers(1,2,3,4,5,6,7,8,9)"
   ]
  },
  {
   "cell_type": "markdown",
   "id": "dfda6d2c-5115-44e5-bd2c-17403de7848b",
   "metadata": {},
   "source": [
    "#**kwargs allows you to pass a variable number of keyword arguments to a function. It collects the additional keyword arguments as a dictionary, where the keys are the argument names and the values are the argument values. Here's an example:"
   ]
  },
  {
   "cell_type": "code",
   "execution_count": 32,
   "id": "b79e70db-a3df-4697-a1ac-18a001e9ddc9",
   "metadata": {},
   "outputs": [],
   "source": [
    "def test(**kwargs):\n",
    "    return kwargs\n",
    "    "
   ]
  },
  {
   "cell_type": "code",
   "execution_count": 34,
   "id": "4172691b-7170-4b4a-83af-e9951eb11661",
   "metadata": {},
   "outputs": [
    {
     "data": {
      "text/plain": [
       "dict"
      ]
     },
     "execution_count": 34,
     "metadata": {},
     "output_type": "execute_result"
    }
   ],
   "source": [
    "type(test())"
   ]
  },
  {
   "cell_type": "code",
   "execution_count": 36,
   "id": "95e620b8-1ae5-4f33-95ed-3bcbfbccb80c",
   "metadata": {},
   "outputs": [
    {
     "data": {
      "text/plain": [
       "{'name': 'Anees', 'age': '27', 'city': 'Gorakhpur'}"
      ]
     },
     "execution_count": 36,
     "metadata": {},
     "output_type": "execute_result"
    }
   ],
   "source": [
    "test(name=\"Anees\", age=\"27\", city=\"Gorakhpur\")"
   ]
  },
  {
   "cell_type": "markdown",
   "id": "7e0d3032-75da-4ec2-b90c-e39de6333f82",
   "metadata": {},
   "source": [
    "#Answer3\n",
    "\n",
    "In Python, an iterator is an object that allows you to traverse a container (like a list or a string) or compute a series of values one at a time.\n",
    "It provides an interface for sequential access to the elements or values within the container.\n",
    "To initialize an iterator object, you need to define a class that implements the iterator protocol.\n",
    "The iterator protocol consists of two methods:\n",
    "\n",
    "iter(): This method is used to initialize the iterator object. It returns the iterator object itself. It is typically implemented to return self since the iterator object is usually the object implementing the iterator.\n",
    "\n",
    "next(): This method is called to fetch the next value from the iterator. It returns the next value in the sequence and advances the iterator. If there are no more elements, it should raise the StopIteration exception to signal the end of the iteration."
   ]
  },
  {
   "cell_type": "code",
   "execution_count": 1,
   "id": "a1a59ddd-5471-4337-9ce8-e33f25522a24",
   "metadata": {},
   "outputs": [],
   "source": [
    "#print the first five elements of the given list [2, 4, 6, 8, 10, 12, 14,16, 18, 20]."
   ]
  },
  {
   "cell_type": "code",
   "execution_count": 5,
   "id": "6495ac02-cf0d-4e93-9237-78de1bf06505",
   "metadata": {},
   "outputs": [],
   "source": [
    "l= [2,4,6,8,10,12,14,16,18,20]"
   ]
  },
  {
   "cell_type": "code",
   "execution_count": 6,
   "id": "5710d062-ca5a-4ee0-a5fb-bc2c6d15f4c5",
   "metadata": {},
   "outputs": [
    {
     "name": "stdout",
     "output_type": "stream",
     "text": [
      "2\n",
      "4\n",
      "6\n",
      "8\n",
      "10\n"
     ]
    }
   ],
   "source": [
    "l1=iter(l)\n",
    "for i in range(5):\n",
    "        print(next(l1))"
   ]
  },
  {
   "cell_type": "markdown",
   "id": "f42252b5-2121-42fe-b185-82ee5febac2a",
   "metadata": {},
   "source": [
    "#Answer4\n",
    "\n",
    "In Python, a generator function is a special type of function that generates a sequence of values using the yield keyword. It allows you to define an iterator in a concise and efficient way.\n",
    "While a regular function uses the return statement to return a single value and terminates the function, a generator function uses the yield statement to produce a series of values one at a time, maintaining its state between each yield. Each time the yield statement is encountered, the function pauses its execution and yields a value. The next time the generator function is called, it resumes execution from where it left off, instead of starting from the beginning.\n",
    "example of a generator function that generates a sequence of squares:"
   ]
  },
  {
   "cell_type": "code",
   "execution_count": 10,
   "id": "821afc8e-f7a4-4020-947f-4b48f4357f0d",
   "metadata": {},
   "outputs": [],
   "source": [
    "def square_generator(n):\n",
    "    for i in range(n):\n",
    "        yield i ** 2\n",
    "\n",
    "        "
   ]
  },
  {
   "cell_type": "code",
   "execution_count": 12,
   "id": "89485c80-6195-4460-88a2-f055fdad4197",
   "metadata": {},
   "outputs": [
    {
     "name": "stdout",
     "output_type": "stream",
     "text": [
      "0\n",
      "1\n",
      "4\n",
      "9\n",
      "16\n"
     ]
    },
    {
     "ename": "StopIteration",
     "evalue": "",
     "output_type": "error",
     "traceback": [
      "\u001b[0;31m---------------------------------------------------------------------------\u001b[0m",
      "\u001b[0;31mStopIteration\u001b[0m                             Traceback (most recent call last)",
      "Cell \u001b[0;32mIn[12], line 8\u001b[0m\n\u001b[1;32m      5\u001b[0m     \u001b[38;5;28mprint\u001b[39m(square)\n\u001b[1;32m      7\u001b[0m \u001b[38;5;66;03m# Retrieve values one at a time\u001b[39;00m\n\u001b[0;32m----> 8\u001b[0m \u001b[38;5;28mprint\u001b[39m(\u001b[38;5;28;43mnext\u001b[39;49m\u001b[43m(\u001b[49m\u001b[43msquares\u001b[49m\u001b[43m)\u001b[49m)\n",
      "\u001b[0;31mStopIteration\u001b[0m: "
     ]
    }
   ],
   "source": [
    "squares = square_generator(5)\n",
    "\n",
    "# Iterate over the generator function\n",
    "for square in squares:\n",
    "    print(square)\n",
    "\n",
    "# Retrieve values one at a time\n",
    "print(next(squares))"
   ]
  },
  {
   "cell_type": "code",
   "execution_count": 1,
   "id": "b1eae946-1b65-4b4f-a36b-2c9617c60413",
   "metadata": {},
   "outputs": [],
   "source": [
    "#Answer5\n",
    "\n",
    "def prime_generator():\n",
    "    primes = []\n",
    "    num = 2\n",
    "    while True:\n",
    "        if all(num % prime != 0 for prime in primes):\n",
    "            primes.append(num)\n",
    "            yield num\n",
    "        num += 1"
   ]
  },
  {
   "cell_type": "code",
   "execution_count": 2,
   "id": "1e097a15-4903-4232-b651-8a3c9449955a",
   "metadata": {},
   "outputs": [
    {
     "name": "stdout",
     "output_type": "stream",
     "text": [
      "2\n",
      "3\n",
      "5\n",
      "7\n",
      "11\n",
      "13\n",
      "17\n",
      "19\n",
      "23\n",
      "29\n",
      "31\n",
      "37\n",
      "41\n",
      "43\n",
      "47\n",
      "53\n",
      "59\n",
      "61\n",
      "67\n",
      "71\n"
     ]
    }
   ],
   "source": [
    "prime_gen = prime_generator()\n",
    "\n",
    "for _ in range(20):\n",
    "    prime = next(prime_gen)\n",
    "    print(prime)"
   ]
  },
  {
   "cell_type": "code",
   "execution_count": 15,
   "id": "3fa39857-14e1-4cd2-976e-94c79f75b820",
   "metadata": {},
   "outputs": [],
   "source": [
    "#Answer6\n",
    "\n",
    "def test_fib1():\n",
    "    a,b = 0, 1\n",
    "    while True :\n",
    "        yield a\n",
    "        a,b = b ,a+b"
   ]
  },
  {
   "cell_type": "code",
   "execution_count": 17,
   "id": "6320a053-2444-42eb-869e-08a8040f743b",
   "metadata": {},
   "outputs": [
    {
     "name": "stdout",
     "output_type": "stream",
     "text": [
      "0\n",
      "1\n",
      "1\n",
      "2\n",
      "3\n",
      "5\n",
      "8\n",
      "13\n",
      "21\n",
      "34\n"
     ]
    }
   ],
   "source": [
    "fib = test_fib1()\n",
    "for i in range(10):\n",
    "    print(next(fib))"
   ]
  },
  {
   "cell_type": "code",
   "execution_count": 45,
   "id": "7b4e12e1-ee41-4e47-af05-cb111b629d33",
   "metadata": {},
   "outputs": [],
   "source": [
    "#Answer7\n",
    "\n",
    "#Sure! Here's the list comprehension you can use to iterate through the string 'pwskills' and get the expected output:"
   ]
  },
  {
   "cell_type": "code",
   "execution_count": 46,
   "id": "4d8f67b7-2d01-44a9-8a80-0addae61d3f5",
   "metadata": {},
   "outputs": [],
   "source": [
    "string = 'pwskills'\n",
    "output = [char for char in string]"
   ]
  },
  {
   "cell_type": "code",
   "execution_count": 48,
   "id": "6fca36c7-7e6b-4339-821d-0116630a7acd",
   "metadata": {},
   "outputs": [
    {
     "data": {
      "text/plain": [
       "['p', 'w', 's', 'k', 'i', 'l', 'l', 's']"
      ]
     },
     "execution_count": 48,
     "metadata": {},
     "output_type": "execute_result"
    }
   ],
   "source": [
    "output"
   ]
  },
  {
   "cell_type": "code",
   "execution_count": 26,
   "id": "a9ad9723-cff3-4d0d-b45a-4900eea34846",
   "metadata": {},
   "outputs": [
    {
     "name": "stdin",
     "output_type": "stream",
     "text": [
      "Enter a number:  121\n"
     ]
    },
    {
     "name": "stdout",
     "output_type": "stream",
     "text": [
      "The number 121 is a palindrome.\n"
     ]
    }
   ],
   "source": [
    "#Answer8\n",
    "\n",
    "num = int(input(\"Enter a number: \"))\n",
    "\n",
    "# Create a copy of the original number\n",
    "original_num = num\n",
    "\n",
    "# Initialize variables\n",
    "reverse_num = 0\n",
    "while num > 0:\n",
    "    # Extract the last digit of the number\n",
    "    last_digit = num % 10\n",
    "\n",
    "    # Append the last digit to the reverse number\n",
    "    reverse_num = (reverse_num * 10) + last_digit\n",
    "\n",
    "    # Remove the last digit from the number\n",
    "    num = num // 10\n",
    "\n",
    "# Check if the original number is equal to its reverse\n",
    "if original_num == reverse_num:\n",
    "    print(f\"The number {original_num} is a palindrome.\")\n",
    "else:\n",
    "    print(f\"The number {original_num} is not a palindrome.\")\n"
   ]
  },
  {
   "cell_type": "code",
   "execution_count": 40,
   "id": "f0de97f8-456b-4981-85db-142e38d2ccbb",
   "metadata": {},
   "outputs": [],
   "source": [
    "#Answer9\n",
    "\n",
    "#Certainly! Here's the code that uses list comprehension to print the odd numbers from 1 to 100:\n",
    "numbers =iter(numbers)\n",
    "numbers = [num for num in range(1, 101)]"
   ]
  },
  {
   "cell_type": "code",
   "execution_count": 50,
   "id": "3804ebaf-97f8-4dfd-be4c-c37f0ad5d28f",
   "metadata": {},
   "outputs": [
    {
     "name": "stdout",
     "output_type": "stream",
     "text": [
      "[1, 3, 5, 7, 9, 11, 13, 15, 17, 19, 21, 23, 25, 27, 29, 31, 33, 35, 37, 39, 41, 43, 45, 47, 49, 51, 53, 55, 57, 59, 61, 63, 65, 67, 69, 71, 73, 75, 77, 79, 81, 83, 85, 87, 89, 91, 93, 95, 97, 99]\n"
     ]
    }
   ],
   "source": [
    "odd_numbers=[num for num in numbers if num % 2 != 0]\n",
    "print(odd_numbers)"
   ]
  }
 ],
 "metadata": {
  "kernelspec": {
   "display_name": "Python 3 (ipykernel)",
   "language": "python",
   "name": "python3"
  },
  "language_info": {
   "codemirror_mode": {
    "name": "ipython",
    "version": 3
   },
   "file_extension": ".py",
   "mimetype": "text/x-python",
   "name": "python",
   "nbconvert_exporter": "python",
   "pygments_lexer": "ipython3",
   "version": "3.10.8"
  }
 },
 "nbformat": 4,
 "nbformat_minor": 5
}
