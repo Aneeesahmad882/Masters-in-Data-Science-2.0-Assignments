{
 "cells": [
  {
   "cell_type": "markdown",
   "id": "b2a41895-b376-4f83-b117-c11045c6f132",
   "metadata": {},
   "source": [
    "#Answer1\n",
    "In object-oriented programming (OOP), a class is a blueprint or a template that defines the characteristics (properties or attributes)\n",
    "and behaviors (methods or functions) of a particular type of object.\n",
    "It serves as a blueprint for creating individual instances of that type, known as objects.\n",
    "\n",
    "An object, on the other hand, is a specific instance of a class.\n",
    "It represents a real-world entity or concept and encapsulates both data (properties) and behavior (methods) related to that entity.\n",
    "\n",
    "Let's consider an example of a class called \"Car.\" The Car class can define various properties of a car,\n",
    "such as the make, model, color, and year. It can also define behaviors, such as starting the engine, accelerating, braking, and turning."
   ]
  },
  {
   "cell_type": "code",
   "execution_count": 1,
   "id": "baa95cc5-243b-430f-95a1-34f43aba7d45",
   "metadata": {},
   "outputs": [],
   "source": [
    "class Car:\n",
    "    def __init__(self, make, model, color, year):\n",
    "        self.make = make\n",
    "        self.model = model\n",
    "        self.color = color\n",
    "        self.year = year\n",
    "        self.is_running = False\n",
    "\n",
    "    def start_engine(self):\n",
    "        self.is_running = True\n",
    "        print(\"The engine is running.\")\n",
    "\n",
    "    def accelerate(self):\n",
    "        if self.is_running:\n",
    "            print(\"The car is accelerating.\")\n",
    "        else:\n",
    "            print(\"Start the engine first.\")\n",
    "\n",
    "    def brake(self):\n",
    "        if self.is_running:\n",
    "            print(\"The car is braking.\")\n",
    "        else:\n",
    "            print(\"Start the engine first.\")\n",
    "\n",
    "    def turn(self, direction):\n",
    "        if self.is_running:\n",
    "            print(f\"The car is turning {direction}.\")\n",
    "        else:\n",
    "            print(\"Start the engine first.\")\n"
   ]
  },
  {
   "cell_type": "code",
   "execution_count": 9,
   "id": "c536bfb2-17b3-4c1f-8bfb-f6e8dc196a5f",
   "metadata": {},
   "outputs": [],
   "source": [
    "#To create individual car objects, we can instantiate the Car class and assign specific values to the properties:\n",
    "my_car = Car(\"Innova\", \"creta\", \"white\", 2022)\n"
   ]
  },
  {
   "cell_type": "code",
   "execution_count": 10,
   "id": "1d230c52-6cdb-45f9-97fe-05c674de8bdf",
   "metadata": {},
   "outputs": [
    {
     "name": "stdout",
     "output_type": "stream",
     "text": [
      "The engine is running.\n"
     ]
    }
   ],
   "source": [
    "my_car.start_engine()"
   ]
  },
  {
   "cell_type": "code",
   "execution_count": 11,
   "id": "af88e903-e4ed-4246-84c1-dcfd81a514ce",
   "metadata": {},
   "outputs": [
    {
     "name": "stdout",
     "output_type": "stream",
     "text": [
      "The car is accelerating.\n"
     ]
    }
   ],
   "source": [
    "my_car.accelerate()"
   ]
  },
  {
   "cell_type": "code",
   "execution_count": 6,
   "id": "daea8a10-2800-4499-99f4-311a07eebc73",
   "metadata": {},
   "outputs": [
    {
     "name": "stdout",
     "output_type": "stream",
     "text": [
      "The car is braking.\n"
     ]
    }
   ],
   "source": [
    "my_car.brake()"
   ]
  },
  {
   "cell_type": "code",
   "execution_count": 8,
   "id": "610dd48a-1ca0-4bb3-b216-b0982ae36a86",
   "metadata": {},
   "outputs": [
    {
     "name": "stdout",
     "output_type": "stream",
     "text": [
      "The car is turning left.\n"
     ]
    }
   ],
   "source": [
    "my_car.turn(\"left\")"
   ]
  },
  {
   "cell_type": "markdown",
   "id": "a8e7ba8a-6154-4cda-badd-386eb067f108",
   "metadata": {},
   "source": [
    "#Answer2\n",
    "The four pillars of object-oriented programming (OOP) are:\n",
    "\n",
    "1-Polymorphism: Polymorphism means \"many forms\" and refers to the ability of objects of different classes to respond differently to the same message or method invocation. In polymorphism, a single method name can be used to perform different operations based on the type of object it is called upon. It allows objects of different types to be treated uniformly, providing flexibility, modularity, and code extensibility.\n",
    "\n",
    "2-Encapsulation: Encapsulation is the concept of bundling data (properties) and methods (behaviors) together within a class. It involves hiding the internal details of an object and exposing only the necessary information through well-defined interfaces. Encapsulation provides data abstraction, data integrity, and modularity, allowing objects to interact with each other while maintaining data privacy and security.\n",
    "\n",
    "3-Inheritance: Inheritance allows the creation of new classes (derived classes or subclasses) based on existing classes (base classes or superclasses). The derived classes inherit the properties and behaviors of the base class, which they can use as-is or modify as per their specific requirements. Inheritance promotes code reuse, extensibility, and the hierarchical organization of classes.\n",
    "\n",
    "4-Abstraction: Abstraction is the process of simplifying complex systems by representing only the essential features while hiding unnecessary details. It involves creating abstract classes or interfaces that define the common properties and behaviors of a group of objects. Abstraction allows for modeling real-world entities or concepts at a higher level, focusing on what an object does rather than how it does it. It provides a clear separation between the interface and implementation, promoting code reusability, maintainability, and system scalability."
   ]
  },
  {
   "cell_type": "markdown",
   "id": "97448677-37a6-4601-b8d4-6a6f6e5cb66a",
   "metadata": {},
   "source": [
    "#Answer3\n",
    "\n",
    "The __init__() function is a special method in Python that is automatically called when an object is created from a class.\n",
    "It stands for \"initialize\" and is used to initialize the attributes (properties)\n",
    "of an object with values passed as arguments during instantiation.\n",
    "\n",
    "The __init__() method allows you to set up the initial state of an object by defining\n",
    "the attributes it should have and assigning initial values to those attributes.\n",
    "It is commonly used to perform any necessary setup or configuration required for the object to be in a valid and usable state.\n",
    "\n",
    "Here's an example to illustrate the usage of the __init__() method:"
   ]
  },
  {
   "cell_type": "code",
   "execution_count": 12,
   "id": "8399b53f-1a3f-466e-ba43-de7b80923fcb",
   "metadata": {},
   "outputs": [],
   "source": [
    "class Person:\n",
    "    def __init__(self, name, age):\n",
    "        self.name = name\n",
    "        self.age = age\n",
    "\n",
    "    def introduce(self):\n",
    "        print(f\"My name is {self.name} and I am {self.age} years old.\")\n",
    "\n",
    "# Creating a Person object and initializing its attributes\n",
    "person1 = Person(\"Alice\", 25)\n",
    "\n"
   ]
  },
  {
   "cell_type": "code",
   "execution_count": 14,
   "id": "f128ab3b-b95a-444e-aa15-32cf08a3168e",
   "metadata": {},
   "outputs": [
    {
     "name": "stdout",
     "output_type": "stream",
     "text": [
      "Alice\n",
      "25\n",
      "My name is Alice and I am 25 years old.\n"
     ]
    }
   ],
   "source": [
    "print(person1.name)\n",
    "print(person1.age)\n",
    "person1.introduce()"
   ]
  },
  {
   "cell_type": "markdown",
   "id": "f707504b-a4dc-4e7f-b0ab-aea2d9fd4765",
   "metadata": {},
   "source": [
    "#Answer4\n",
    "\n",
    "In object-oriented programming (OOP), self is a convention used as the first parameter in method definitions within a class. It refers to the instance of the class itself, allowing methods to access and manipulate the instance's attributes and invoke other methods.\n",
    "\n",
    "When a method is called on an object, the object itself is automatically passed as the first argument to the method. By convention, this parameter is named self (although you can choose any valid variable name) to indicate that it refers to the current instance of the class.\n",
    "\n",
    "Here are the main reasons why self is used in OOP:\n",
    "\n",
    "1-Instance Scope: self allows access to the instance's attributes and methods within the class. It provides a way to differentiate between instance attributes (unique to each object) and class attributes (shared by all objects of the class).\n",
    "\n",
    "2-Attribute Access: Using self.attribute_name, you can access or modify the instance's attributes within the class's methods. This allows the methods to work with specific instance data and perform operations based on the object's state.\n",
    "\n",
    "3-Method Invocation: With self.method_name(), you can invoke other methods within the class. This allows methods to call each other, enabling code reuse and modularity within the class.\n",
    "\n",
    "4-Multiple Instances: In a class, you can create multiple instances (objects) that have their own unique attributes and states. The self parameter ensures that methods can operate on the correct instance and access its specific data.\n",
    "\n",
    "Here's an example to illustrate the usage of self:\n"
   ]
  },
  {
   "cell_type": "code",
   "execution_count": 15,
   "id": "7bd9815d-8bb4-46f3-8b50-afaf4934e05c",
   "metadata": {},
   "outputs": [],
   "source": [
    "class Circle:\n",
    "    def __init__(self, radius):\n",
    "        self.radius = radius\n",
    "\n",
    "    def calculate_area(self):\n",
    "        return 3.14 * self.radius ** 2\n",
    "\n",
    "# Creating two Circle objects\n",
    "circle1 = Circle(5)\n",
    "circle2 = Circle(7)"
   ]
  },
  {
   "cell_type": "code",
   "execution_count": 16,
   "id": "e04ddbfa-cace-4257-996f-19fdb9a10bcb",
   "metadata": {},
   "outputs": [
    {
     "name": "stdout",
     "output_type": "stream",
     "text": [
      "5\n",
      "7\n"
     ]
    }
   ],
   "source": [
    "print(circle1.radius)         \n",
    "print(circle2.radius)"
   ]
  },
  {
   "cell_type": "code",
   "execution_count": 17,
   "id": "3440ddfe-de3e-461d-a140-9afc78cf50f5",
   "metadata": {},
   "outputs": [
    {
     "name": "stdout",
     "output_type": "stream",
     "text": [
      "78.5\n",
      "153.86\n"
     ]
    }
   ],
   "source": [
    "print(circle1.calculate_area())   \n",
    "print(circle2.calculate_area()) "
   ]
  },
  {
   "cell_type": "markdown",
   "id": "447249e1-bce0-4d6f-b8ac-aac2a4807ef6",
   "metadata": {},
   "source": [
    "#Answer5\n",
    "\n",
    "\n",
    "Inheritance is a fundamental concept in object-oriented programming (OOP) that allows a new class to inherit properties and\n",
    "behaviors from an existing class. The existing class is known as the base class, parent class, or superclass, \n",
    "while the new class is called the derived class, child class, or subclass.\n",
    "\n",
    "Inheritance promotes code reuse, modularity, and the hierarchical organization of classes. It allows the derived class to inherit and extend the attributes and methods of the base class, while also enabling the derived class to have its own unique attributes and behaviors.\n",
    "\n",
    "There are several types of inheritance relationships, including:"
   ]
  },
  {
   "cell_type": "markdown",
   "id": "210b9190-d578-4a7f-ae3c-fa937c0f8cd0",
   "metadata": {},
   "source": [
    "1-Single Inheritance:\n",
    "Single inheritance involves a subclass inheriting from a single superclass. It is the simplest form of inheritance. The subclass inherits the properties and behaviors of the superclass and can add new attributes and methods or override existing ones.\n",
    "\n",
    "Example:"
   ]
  },
  {
   "cell_type": "code",
   "execution_count": 18,
   "id": "7c5d77c7-7a5f-4349-8cc8-f852a9dbbe4c",
   "metadata": {},
   "outputs": [
    {
     "name": "stdout",
     "output_type": "stream",
     "text": [
      "Buddy\n",
      "Woof!\n"
     ]
    }
   ],
   "source": [
    "class Animal:\n",
    "    def __init__(self, name):\n",
    "        self.name = name\n",
    "\n",
    "    def sound(self):\n",
    "        pass\n",
    "\n",
    "class Dog(Animal):\n",
    "    def sound(self):\n",
    "        return \"Woof!\"\n",
    "\n",
    "dog = Dog(\"Buddy\")\n",
    "print(dog.name)      \n",
    "print(dog.sound())   \n"
   ]
  },
  {
   "cell_type": "markdown",
   "id": "d988b635-60dd-41c1-b6e2-94e871ec3c6c",
   "metadata": {},
   "source": [
    "2-Multiple Inheritance:\n",
    "Multiple inheritance allows a subclass to inherit from multiple superclasses. The subclass inherits the attributes and methods from all the superclasses. It can combine and extend the functionalities of multiple classes.\n",
    "\n",
    "Example:"
   ]
  },
  {
   "cell_type": "code",
   "execution_count": 19,
   "id": "26102d1b-967e-4b82-9ce1-ccf2e109e0d0",
   "metadata": {},
   "outputs": [
    {
     "name": "stdout",
     "output_type": "stream",
     "text": [
      "Swimming...\n",
      "Walking...\n"
     ]
    }
   ],
   "source": [
    "class Swimmer:\n",
    "    def swim(self):\n",
    "        return \"Swimming...\"\n",
    "\n",
    "class Walker:\n",
    "    def walk(self):\n",
    "        return \"Walking...\"\n",
    "\n",
    "class Amphibian(Swimmer, Walker):\n",
    "    pass\n",
    "\n",
    "frog = Amphibian()\n",
    "print(frog.swim())   \n",
    "print(frog.walk())   "
   ]
  },
  {
   "cell_type": "markdown",
   "id": "4a3cda1a-d0b1-4e8d-b260-1303d7267ebe",
   "metadata": {},
   "source": [
    "3-Multilevel Inheritance:\n",
    "Multilevel inheritance involves a subclass inheriting from another subclass. It forms a hierarchy of classes, with each subclass inheriting properties and behaviors from its immediate superclass.\n",
    "\n",
    "Example:"
   ]
  },
  {
   "cell_type": "code",
   "execution_count": 20,
   "id": "89be8a32-d275-4c71-a980-bfcdbcc863aa",
   "metadata": {},
   "outputs": [
    {
     "name": "stdout",
     "output_type": "stream",
     "text": [
      "Toyota\n",
      "Engine started.\n",
      "Trunk opened.\n"
     ]
    }
   ],
   "source": [
    "class Vehicle:\n",
    "    def __init__(self, brand):\n",
    "        self.brand = brand\n",
    "\n",
    "class Car(Vehicle):\n",
    "    def start_engine(self):\n",
    "        return \"Engine started.\"\n",
    "\n",
    "class Sedan(Car):\n",
    "    def open_trunk(self):\n",
    "        return \"Trunk opened.\"\n",
    "\n",
    "sedan = Sedan(\"Toyota\")\n",
    "print(sedan.brand)          \n",
    "print(sedan.start_engine()) \n",
    "print(sedan.open_trunk())   \n"
   ]
  },
  {
   "cell_type": "markdown",
   "id": "2abd389b-68b3-4045-908c-9c39fa66fb24",
   "metadata": {},
   "source": [
    "4-Hierarchical Inheritance:\n",
    "Hierarchical inheritance involves multiple subclasses inheriting from a single superclass. It represents a hierarchical relationship where different subclasses specialize in different aspects of the superclass.\n",
    "\n",
    "Example:"
   ]
  },
  {
   "cell_type": "code",
   "execution_count": 21,
   "id": "1c61dbfa-c91c-4e05-bc3d-995cd1f2d380",
   "metadata": {},
   "outputs": [
    {
     "name": "stdout",
     "output_type": "stream",
     "text": [
      "Drawing a circle.\n",
      "Drawing a rectangle.\n"
     ]
    }
   ],
   "source": [
    "class Shape:\n",
    "    def draw(self):\n",
    "        pass\n",
    "\n",
    "class Circle(Shape):\n",
    "    def draw(self):\n",
    "        return \"Drawing a circle.\"\n",
    "\n",
    "class Rectangle(Shape):\n",
    "    def draw(self):\n",
    "        return \"Drawing a rectangle.\"\n",
    "\n",
    "circle = Circle()\n",
    "rectangle = Rectangle()\n",
    "\n",
    "print(circle.draw())       \n",
    "print(rectangle.draw())    \n"
   ]
  },
  {
   "cell_type": "code",
   "execution_count": null,
   "id": "bc20f1ee-3fef-4ea3-9f70-f128eb706914",
   "metadata": {},
   "outputs": [],
   "source": []
  }
 ],
 "metadata": {
  "kernelspec": {
   "display_name": "Python 3 (ipykernel)",
   "language": "python",
   "name": "python3"
  },
  "language_info": {
   "codemirror_mode": {
    "name": "ipython",
    "version": 3
   },
   "file_extension": ".py",
   "mimetype": "text/x-python",
   "name": "python",
   "nbconvert_exporter": "python",
   "pygments_lexer": "ipython3",
   "version": "3.10.8"
  }
 },
 "nbformat": 4,
 "nbformat_minor": 5
}
