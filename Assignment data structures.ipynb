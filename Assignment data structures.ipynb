{
 "cells": [
  {
   "cell_type": "code",
   "execution_count": null,
   "id": "18ffc526-4f5d-4372-abbc-dff2ebc61b6b",
   "metadata": {},
   "outputs": [],
   "source": [
    "#Answer1\n",
    "'''\n",
    "you can add comments to your code to provide explanations or notes that are ignored by the interpreter.\n",
    "Comments are useful for documenting your code and making it more readable for yourself and others.\n",
    "There are two primary types of comments in Python: single-line comments and multi-line comments.\n",
    "\n",
    "Single-line comments:\n",
    "You can create a single-line comment by using the hash symbol (#) at the beginning of the line.\n",
    "Anything after the hash symbol on that line will be treated as a comment and will not be executed.\n",
    "For example:\n",
    "#this is single line comments\n",
    "x=5\n",
    "\n",
    "Multi-line comments:\n",
    "Multi-line comments are used when you want to comment out multiple lines of code.\n",
    "Python does not have a specific syntax for multi-line comments like some other programming languages.\n",
    "However, we achieve multi-line comments using triple quotes (either single or double quotes)\n",
    "we also use multi-line comments to disable a block of code temporarily.\n",
    "Instead of removing the code, we enclose it within triple quotes, effectively commenting it out.\n",
    "For example:\n",
    "\"\"\"\n",
    "x=9\n",
    "y=7\n",
    "print(y-x)\n",
    "\"\"\"\n",
    "'''"
   ]
  },
  {
   "cell_type": "code",
   "execution_count": 15,
   "id": "de6e42cd-bd3f-4397-a438-179d868dfd53",
   "metadata": {},
   "outputs": [],
   "source": [
    "#Answer2\n",
    "'''\n",
    "In Python, variables are used to store and manipulate data.\n",
    "A variable is essentially a name that refers to a value stored in the computer's memory.\n",
    "You can think of variables as containers that hold different types of data, such as numbers, strings, lists, or more complex objects.\n",
    "To declare a variable in Python, you simply choose a name for the variable and use the assignment operator (=) to assign a value to it.\n",
    "for example :\n",
    "'''\n",
    "Var_A=5\n"
   ]
  },
  {
   "cell_type": "code",
   "execution_count": 16,
   "id": "2ff19457-569a-47a1-be38-ce657868703f",
   "metadata": {},
   "outputs": [
    {
     "data": {
      "text/plain": [
       "5"
      ]
     },
     "execution_count": 16,
     "metadata": {},
     "output_type": "execute_result"
    }
   ],
   "source": [
    "#if we call VarA any time\n",
    "Var_A"
   ]
  },
  {
   "cell_type": "code",
   "execution_count": 17,
   "id": "36a8d787-dbc0-4200-b7ee-dfa8782d8666",
   "metadata": {},
   "outputs": [],
   "source": [
    "#this is just a example of int type variable there is lot of type variables like string,list or more we assign a value like this."
   ]
  },
  {
   "cell_type": "markdown",
   "id": "d152b11d-cae3-4cb6-8096-79a0cb05cd24",
   "metadata": {},
   "source": [
    "There is some importants rules in variables in python.\n",
    "Variable names should follow certain rules:\n",
    "\n",
    "They must start with a letter or an underscore.\n",
    "They can contain letters, numbers, and underscores.\n",
    "They are case-sensitive (e.g., myVariable and myvariable are different)\n",
    "You can assign a new value to an existing variable, and its type can change.\n",
    "for example :\n",
    "A = 9 \n",
    "A is an integer\n",
    "A = Anees \n",
    "A is a string\n",
    "Python allows multiple assignments in a single line.\n",
    "For example:\n",
    "x,y,z = 5,6,7\n",
    "Variables can be used in expressions and can be reassigned with new values as needed.\n",
    "For example :\n",
    "x = 9\n",
    "y = x - 3\n",
    "y well be assigned the value 8.\n",
    "These are the basics of declaring and assigning values to variables in Python."
   ]
  },
  {
   "cell_type": "markdown",
   "id": "cfcfd312-071e-42a4-845c-835c23cc228c",
   "metadata": {},
   "source": [
    "#Answer3\n",
    "In Python, you can convert one data type to another using type conversion functions or constructors.\n",
    "Here are some commonly used methods for type conversion:\n",
    "\n",
    "int(): This function converts a value to an integer.\n",
    "It can be used to convert numeric values or strings containing numeric characters to integers.\n",
    "For example:\n"
   ]
  },
  {
   "cell_type": "code",
   "execution_count": 54,
   "id": "d3d03b65-42f4-4b59-b744-0798b9789338",
   "metadata": {},
   "outputs": [],
   "source": [
    "x=int(8.9)\n",
    "y=int(\"63\")"
   ]
  },
  {
   "cell_type": "code",
   "execution_count": 27,
   "id": "dce6585c-2e94-4922-8b0f-96ce7c72af76",
   "metadata": {},
   "outputs": [
    {
     "data": {
      "text/plain": [
       "8"
      ]
     },
     "execution_count": 27,
     "metadata": {},
     "output_type": "execute_result"
    }
   ],
   "source": [
    "x"
   ]
  },
  {
   "cell_type": "code",
   "execution_count": 55,
   "id": "5fe80ec7-6e22-4db9-9465-5a9a3f8f8005",
   "metadata": {},
   "outputs": [
    {
     "data": {
      "text/plain": [
       "63"
      ]
     },
     "execution_count": 55,
     "metadata": {},
     "output_type": "execute_result"
    }
   ],
   "source": [
    "y"
   ]
  },
  {
   "cell_type": "code",
   "execution_count": 30,
   "id": "f268fb6a-13be-4518-abf9-3bb8277fad10",
   "metadata": {},
   "outputs": [],
   "source": [
    "#float(): This function converts a value to a floating-point number.\n",
    "#It can be used to convert numeric values or strings containing numeric characters to floats. For example:\n",
    "x=float(5)\n",
    "y=float(\"7.21\")"
   ]
  },
  {
   "cell_type": "code",
   "execution_count": 31,
   "id": "0d41fc1c-2ec0-456b-8fe8-ec419ca2de76",
   "metadata": {},
   "outputs": [
    {
     "data": {
      "text/plain": [
       "5.0"
      ]
     },
     "execution_count": 31,
     "metadata": {},
     "output_type": "execute_result"
    }
   ],
   "source": [
    "x"
   ]
  },
  {
   "cell_type": "code",
   "execution_count": 32,
   "id": "5f05d9c2-6ae5-41f4-ada3-1464d7679723",
   "metadata": {},
   "outputs": [
    {
     "data": {
      "text/plain": [
       "7.21"
      ]
     },
     "execution_count": 32,
     "metadata": {},
     "output_type": "execute_result"
    }
   ],
   "source": [
    "y"
   ]
  },
  {
   "cell_type": "code",
   "execution_count": 33,
   "id": "e666714e-41f9-4e5e-81fe-7be4a0587dab",
   "metadata": {},
   "outputs": [],
   "source": [
    "#str(): This function converts a value to a string.\n",
    "#It can be used to convert numbers, booleans, or other types to strings. For example:\n",
    "x=str(34)\n",
    "y=str(True)"
   ]
  },
  {
   "cell_type": "code",
   "execution_count": 34,
   "id": "3fb23dc3-c02b-4948-8fce-2d5c392e71fe",
   "metadata": {},
   "outputs": [
    {
     "data": {
      "text/plain": [
       "'34'"
      ]
     },
     "execution_count": 34,
     "metadata": {},
     "output_type": "execute_result"
    }
   ],
   "source": [
    "x"
   ]
  },
  {
   "cell_type": "code",
   "execution_count": 35,
   "id": "c7531b66-a81d-4645-917b-6cc8cfb40c73",
   "metadata": {},
   "outputs": [
    {
     "data": {
      "text/plain": [
       "'True'"
      ]
     },
     "execution_count": 35,
     "metadata": {},
     "output_type": "execute_result"
    }
   ],
   "source": [
    "y"
   ]
  },
  {
   "cell_type": "code",
   "execution_count": 36,
   "id": "0871552a-6b6a-41f2-8f60-c34a18c5a6f6",
   "metadata": {},
   "outputs": [],
   "source": [
    "#list(): This function converts a sequence (like a string, tuple, or range) to a list. For example:\n",
    "x = list(\"Anees\")\n",
    "y = list((0,564,\"Anees\"))"
   ]
  },
  {
   "cell_type": "code",
   "execution_count": 37,
   "id": "b02a97f8-54b2-4f11-b832-c9b1df38b3ad",
   "metadata": {},
   "outputs": [
    {
     "data": {
      "text/plain": [
       "['A', 'n', 'e', 'e', 's']"
      ]
     },
     "execution_count": 37,
     "metadata": {},
     "output_type": "execute_result"
    }
   ],
   "source": [
    "x"
   ]
  },
  {
   "cell_type": "code",
   "execution_count": 38,
   "id": "6d666afe-714f-4a32-bab0-c7017fdc56ea",
   "metadata": {},
   "outputs": [
    {
     "data": {
      "text/plain": [
       "[0, 564, 'Anees']"
      ]
     },
     "execution_count": 38,
     "metadata": {},
     "output_type": "execute_result"
    }
   ],
   "source": [
    "y"
   ]
  },
  {
   "cell_type": "code",
   "execution_count": 39,
   "id": "742b13cc-2b18-47a7-a299-73be44fe516d",
   "metadata": {},
   "outputs": [],
   "source": [
    "#tuple(): This function converts a sequence (like a list or string) to a tuple. For example:\n",
    "x=tuple([5,5.45,True])\n",
    "y=tuple(\"Anees\")"
   ]
  },
  {
   "cell_type": "code",
   "execution_count": 40,
   "id": "87110e80-cd63-495b-a363-af4d17736203",
   "metadata": {},
   "outputs": [
    {
     "data": {
      "text/plain": [
       "(5, 5.45, True)"
      ]
     },
     "execution_count": 40,
     "metadata": {},
     "output_type": "execute_result"
    }
   ],
   "source": [
    "x"
   ]
  },
  {
   "cell_type": "code",
   "execution_count": 41,
   "id": "c3e6915a-eeec-4e45-812c-4c1e4cecfd25",
   "metadata": {},
   "outputs": [
    {
     "data": {
      "text/plain": [
       "('A', 'n', 'e', 'e', 's')"
      ]
     },
     "execution_count": 41,
     "metadata": {},
     "output_type": "execute_result"
    }
   ],
   "source": [
    "y"
   ]
  },
  {
   "cell_type": "code",
   "execution_count": 42,
   "id": "ad5ea365-7799-49ad-8f0f-a5c4019ffb26",
   "metadata": {},
   "outputs": [],
   "source": [
    "#bool(): This function converts a value to a boolean.\n",
    "#It can be used to convert numeric values or strings to booleans. Generally,\n",
    "#any non-zero or non-empty value is considered True, while 0, 0.0, None, and empty values are considered False. For example:\n",
    "x=bool(49)\n",
    "y=bool(0)"
   ]
  },
  {
   "cell_type": "code",
   "execution_count": 43,
   "id": "ccff5985-5039-4266-8226-e65af9c83941",
   "metadata": {},
   "outputs": [
    {
     "data": {
      "text/plain": [
       "True"
      ]
     },
     "execution_count": 43,
     "metadata": {},
     "output_type": "execute_result"
    }
   ],
   "source": [
    "x"
   ]
  },
  {
   "cell_type": "code",
   "execution_count": 44,
   "id": "0223f619-b7a5-4857-9910-a08e02587d26",
   "metadata": {},
   "outputs": [
    {
     "data": {
      "text/plain": [
       "False"
      ]
     },
     "execution_count": 44,
     "metadata": {},
     "output_type": "execute_result"
    }
   ],
   "source": [
    "y"
   ]
  },
  {
   "cell_type": "markdown",
   "id": "eef34dcb-7983-40b1-891e-b38711ac8414",
   "metadata": {},
   "source": [
    "#Answer4\n",
    "To write and execute a Python script from the command line, you can follow these steps:\n",
    "\n",
    "1.Open a text editor and create a new file. Save it with a .py extension, which is the standard file extension for Python scripts. For example, we can create a file named script.py.\n",
    "\n",
    "2.In the text editor, write Python code in the file. For example, let's write a simple script that prints \"Good Day, Anees!\" to the console:\n",
    "\n",
    "print(\"Good Day, Anees!\")\n",
    "3.Save the file after writing code.\n",
    "\n",
    "4.Open a command prompt or terminal window.\n",
    "\n",
    "5.Navigate to the directory where we saved the Python script. we can use the cd command to change directories. For example, if our script is saved on the desktop, we can navigate to the desktop directory like this:\n",
    "\n",
    "cd Desktop\n",
    "6.Once we are in the correct directory, we can execute the Python script by entering the following command:\n",
    "\n",
    "python script.py\n",
    "Here, script.py is the name of our Python script file. Make sure we replace it with the actual name of your file if it's different.\n",
    "\n",
    "7.Press the Enter key, and our Python script will be executed. In this case, the output \"Good Day, Anees!\" will be printed to the console.\n",
    "\n",
    "That's it! we have successfully written and executed a Python script from the command line. we can modify the script file in our text editor, save it, and rerun the script using the same command whenever we want to execute it again."
   ]
  },
  {
   "cell_type": "code",
   "execution_count": 56,
   "id": "a4dff416-87f3-4ca2-b3c0-dea6e8e1fc82",
   "metadata": {},
   "outputs": [],
   "source": [
    "#Answer5\n",
    "#To slice a list in Python and obtain a sub-list, you can use the slice notation.\n",
    "my_list=[1,2,3,4,5]\n",
    "#obtaining a sub_list=[2,3]"
   ]
  },
  {
   "cell_type": "code",
   "execution_count": 59,
   "id": "2a98d6f7-f059-4a9a-9c99-775187b2c520",
   "metadata": {},
   "outputs": [
    {
     "name": "stdout",
     "output_type": "stream",
     "text": [
      "[2, 3]\n"
     ]
    }
   ],
   "source": [
    "sub_list= my_list[1:3]\n",
    "print(sub_list)"
   ]
  },
  {
   "cell_type": "markdown",
   "id": "b8ea2d72-947a-4860-987b-f17a96020396",
   "metadata": {},
   "source": [
    "#Answer6\n",
    "In mathematics, a complex number is a number of the form x + iy, where x and y are real numbers, and i is the imaginary unit defined as the square root of -1. The real part a represents the real number component, and the imaginary part b represents the imaginary number component.\n",
    "\n",
    "In Python, complex numbers are supported as a built-in data type. They are represented by using the j or J suffix to denote the imaginary part. The general syntax to create a complex number in Python is as follows:"
   ]
  },
  {
   "cell_type": "code",
   "execution_count": 61,
   "id": "7ffd7ae8-5e8d-4fa7-ac40-a151f24802aa",
   "metadata": {},
   "outputs": [],
   "source": [
    "z=3+7j"
   ]
  },
  {
   "cell_type": "code",
   "execution_count": 63,
   "id": "aacfdbeb-6e1c-40a9-8294-30d5ca135e3e",
   "metadata": {},
   "outputs": [
    {
     "data": {
      "text/plain": [
       "3.0"
      ]
     },
     "execution_count": 63,
     "metadata": {},
     "output_type": "execute_result"
    }
   ],
   "source": [
    "z.real"
   ]
  },
  {
   "cell_type": "code",
   "execution_count": 64,
   "id": "c659547e-3473-49b8-b087-597565003eab",
   "metadata": {},
   "outputs": [
    {
     "data": {
      "text/plain": [
       "7.0"
      ]
     },
     "execution_count": 64,
     "metadata": {},
     "output_type": "execute_result"
    }
   ],
   "source": [
    "z.imag"
   ]
  },
  {
   "cell_type": "code",
   "execution_count": 65,
   "id": "c8a3f5dc-bc2e-4295-b33f-26d7c014b09d",
   "metadata": {},
   "outputs": [],
   "source": [
    "#In Python, you can perform various operations on complex numbers, such as addition, subtraction, multiplication, division, and more.\n",
    "z1=2+3j\n",
    "z2=9+5j"
   ]
  },
  {
   "cell_type": "code",
   "execution_count": 71,
   "id": "5894da85-c9cc-4a8f-8394-6c2a52ca0d76",
   "metadata": {},
   "outputs": [
    {
     "name": "stdout",
     "output_type": "stream",
     "text": [
      "(11+8j)\n"
     ]
    }
   ],
   "source": [
    "#addition\n",
    "result_add=z1+z2\n",
    "print(result_add)"
   ]
  },
  {
   "cell_type": "code",
   "execution_count": 72,
   "id": "6641eeaa-f184-467d-8add-2856a387444e",
   "metadata": {},
   "outputs": [
    {
     "name": "stdout",
     "output_type": "stream",
     "text": [
      "(-7-2j)\n"
     ]
    }
   ],
   "source": [
    "#Substraction\n",
    "result_sub=z1-z2\n",
    "print(result_sub)"
   ]
  },
  {
   "cell_type": "code",
   "execution_count": 73,
   "id": "4e03851d-058e-4e3a-90ea-df4d38cf101e",
   "metadata": {},
   "outputs": [
    {
     "name": "stdout",
     "output_type": "stream",
     "text": [
      "(3+37j)\n"
     ]
    }
   ],
   "source": [
    "#Multiplicaton\n",
    "result_mul=z1*z2\n",
    "print(result_mul)"
   ]
  },
  {
   "cell_type": "code",
   "execution_count": 74,
   "id": "2fceb54f-b8be-47e1-bf12-f1c8d5d266df",
   "metadata": {},
   "outputs": [
    {
     "name": "stdout",
     "output_type": "stream",
     "text": [
      "(0.3113207547169811+0.16037735849056603j)\n"
     ]
    }
   ],
   "source": [
    "#Divison\n",
    "result_div=z1/z2\n",
    "print(result_div)"
   ]
  },
  {
   "cell_type": "code",
   "execution_count": 75,
   "id": "f5880462-3437-46f4-8952-09a2b4f8d748",
   "metadata": {},
   "outputs": [],
   "source": [
    "#Answer7\n",
    "#To declare a variable named age and assign the value 25 to it in Python.\n",
    "age=25\n",
    "#In the code above, age is the variable name, and 25 is the value assigned to it.\n",
    "#Python follows a simple syntax for variable assignment, where the variable name is placed on the left side of the assignment operator (=),\n",
    "#and the value to be assigned is placed on the right side.\n",
    "#After executing the above code, the variable age will hold the value 25, and you can use it throughout your code as needed:"
   ]
  },
  {
   "cell_type": "code",
   "execution_count": 76,
   "id": "f91e3220-b7db-45c1-8224-5e12becd4b53",
   "metadata": {},
   "outputs": [
    {
     "name": "stdout",
     "output_type": "stream",
     "text": [
      "25\n"
     ]
    }
   ],
   "source": [
    "print(age)"
   ]
  },
  {
   "cell_type": "code",
   "execution_count": 83,
   "id": "d7792cf8-d3e8-440b-917f-6c8b759c2232",
   "metadata": {},
   "outputs": [],
   "source": [
    "#Answer8\n",
    "#To declare a variable named price and assign the value 9.99 to it in Python, you would use the following code:\n",
    "price=9.99\n",
    "#In the code above, price is the variable name, and 9.99 is the value assigned to it.\n",
    "#You can verify the data type of the price variable using the type() function:\n"
   ]
  },
  {
   "cell_type": "code",
   "execution_count": 84,
   "id": "6037d3d3-66b1-4096-8ba1-ffba3494c769",
   "metadata": {},
   "outputs": [
    {
     "name": "stdout",
     "output_type": "stream",
     "text": [
      "<class 'float'>\n"
     ]
    }
   ],
   "source": [
    "print(type(price))"
   ]
  },
  {
   "cell_type": "code",
   "execution_count": 85,
   "id": "de019309-a8ca-4539-b010-f674f56e7947",
   "metadata": {},
   "outputs": [],
   "source": [
    "#The type() function returns the type of the variable,and in this case, it will display <class 'float'>,\n",
    "#confirming that the price variable is of type float."
   ]
  },
  {
   "cell_type": "code",
   "execution_count": 86,
   "id": "7c323d9c-4713-47fc-b5c1-482f5877e991",
   "metadata": {},
   "outputs": [],
   "source": [
    "#Answer9\n",
    "#To create a variable named name and assign my full name to it as a string.\n",
    "name = \"Mohd Anees Ahmad\"\n",
    "#to print the value of variable name we use the print() function."
   ]
  },
  {
   "cell_type": "code",
   "execution_count": 87,
   "id": "f4428644-2b80-4a68-a2c5-4347d829178e",
   "metadata": {},
   "outputs": [
    {
     "name": "stdout",
     "output_type": "stream",
     "text": [
      "Mohd Anees Ahmad\n"
     ]
    }
   ],
   "source": [
    "print(name)"
   ]
  },
  {
   "cell_type": "code",
   "execution_count": 88,
   "id": "4066b178-981e-43f2-91ab-db013b94080c",
   "metadata": {},
   "outputs": [],
   "source": [
    "#Answer10\n",
    "#To extract the substring \"World\" from the string \"Hello, World!\", you can use string slicing in Python.\n",
    "string=\"Hello, World!\""
   ]
  },
  {
   "cell_type": "code",
   "execution_count": 89,
   "id": "c3066727-af60-4b82-bfd0-8cf5a435e81f",
   "metadata": {},
   "outputs": [
    {
     "name": "stdout",
     "output_type": "stream",
     "text": [
      "World\n"
     ]
    }
   ],
   "source": [
    "substring=string[7:12]\n",
    "print(substring)"
   ]
  },
  {
   "cell_type": "code",
   "execution_count": 134,
   "id": "f5e7ee53-4868-4405-8b3c-623238aef1db",
   "metadata": {},
   "outputs": [],
   "source": [
    "#Answer11\n",
    "#To create a variable named 'is_student' and assign it a boolean value indicating whether you are currently a student or not.\n",
    "is_student=True\n",
    "#In this example, I have assigned the value True to the is_student variable, assuming that you are currently a student.\n",
    "#If you are not a student, you can assign the value False instead:\n",
    "is_student=False"
   ]
  },
  {
   "cell_type": "code",
   "execution_count": 133,
   "id": "9bbf139d-5eeb-4806-adef-68d3615b6447",
   "metadata": {},
   "outputs": [],
   "source": [
    "#By assigning a boolean value (True or False) to the variable is_student, you are indicating the truth value of whether you are a student or not.\n",
    "\n",
    "#You can use the print() function to display the value of the is_student variable:\n",
    "print(is_student)"
   ]
  },
  {
   "cell_type": "code",
   "execution_count": null,
   "id": "0fdc06e8-ed17-46d4-8253-f0f347f6e047",
   "metadata": {},
   "outputs": [],
   "source": [
    "#When you run the code, it will output either True or False depending on the value assigned to the is_student variable.\n",
    "#This will indicate whether you are currently a student or not.\n"
   ]
  }
 ],
 "metadata": {
  "kernelspec": {
   "display_name": "Python 3 (ipykernel)",
   "language": "python",
   "name": "python3"
  },
  "language_info": {
   "codemirror_mode": {
    "name": "ipython",
    "version": 3
   },
   "file_extension": ".py",
   "mimetype": "text/x-python",
   "name": "python",
   "nbconvert_exporter": "python",
   "pygments_lexer": "ipython3",
   "version": "3.10.8"
  }
 },
 "nbformat": 4,
 "nbformat_minor": 5
}
