{
 "cells": [
  {
   "cell_type": "code",
   "execution_count": 13,
   "id": "0fe8ce13-687c-4e79-9ee1-e13223639d95",
   "metadata": {},
   "outputs": [],
   "source": [
    "#Answer1\n",
    "#String\n",
    "a = \"Anees\"\n",
    "#list\n",
    "l = [1,2,3,\"Anees\",23.45,True]\n",
    "#float\n",
    "f = 23.45\n",
    "#tuple\n",
    "t = (5,6,7)\n"
   ]
  },
  {
   "cell_type": "code",
   "execution_count": 5,
   "id": "8bce8268-b268-4130-bfc6-33e428716919",
   "metadata": {},
   "outputs": [],
   "source": [
    "#Answer2\n",
    "#the variables with thier data types\n",
    "var1= \" :this variable is string data type\n",
    "var2='[DS,ML,Python]' :this variables is string data type\n",
    "var3= ['DS,ML,Python] :this variables is list data type\n",
    "var4= 1 : this variable is an integer\n"
   ]
  },
  {
   "cell_type": "code",
   "execution_count": 8,
   "id": "084f57c4-5bb4-485a-9080-92e075104c1a",
   "metadata": {},
   "outputs": [
    {
     "name": "stdout",
     "output_type": "stream",
     "text": [
      "4.0\n"
     ]
    }
   ],
   "source": [
    "#Answer3\n",
    "#'/' operator : this operator is used for devision,and it is called devision operator.\n",
    "a=12\n",
    "b=3\n",
    "answer=a/b\n",
    "print(answer)"
   ]
  },
  {
   "cell_type": "code",
   "execution_count": 9,
   "id": "31c17954-e93d-47ef-b5b7-7fd67f632ee8",
   "metadata": {},
   "outputs": [
    {
     "name": "stdout",
     "output_type": "stream",
     "text": [
      "1\n"
     ]
    }
   ],
   "source": [
    "#'%' operator : this operator is known as modulo operator.\n",
    "a=7\n",
    "b=2\n",
    "answer=a%b\n",
    "print(answer)"
   ]
  },
  {
   "cell_type": "code",
   "execution_count": 10,
   "id": "5ef7c6bd-f0b3-4164-8b4c-02130c2a4580",
   "metadata": {},
   "outputs": [
    {
     "name": "stdout",
     "output_type": "stream",
     "text": [
      "3\n"
     ]
    }
   ],
   "source": [
    "#'//' operator : this operator is known as floor devision and integer devision operator.\n",
    "a=7\n",
    "b=2\n",
    "answer=a//b\n",
    "print(answer)"
   ]
  },
  {
   "cell_type": "code",
   "execution_count": 12,
   "id": "052dcbcf-9c2f-48ee-8225-93f5b06aa681",
   "metadata": {},
   "outputs": [
    {
     "name": "stdout",
     "output_type": "stream",
     "text": [
      "8\n"
     ]
    }
   ],
   "source": [
    "#'**' operator : this operator is known as exponential operator.\n",
    "a=2\n",
    "b=3\n",
    "answer=a**b\n",
    "print(answer)"
   ]
  },
  {
   "cell_type": "code",
   "execution_count": 2,
   "id": "bf045205-f598-4a3d-805f-0e01254efc9f",
   "metadata": {},
   "outputs": [
    {
     "name": "stdout",
     "output_type": "stream",
     "text": [
      "i: 2,Data Type : <class 'int'>\n",
      "i: Anees,Data Type : <class 'str'>\n",
      "i: 42.56,Data Type : <class 'float'>\n",
      "i: [3, 4, 5, 6],Data Type : <class 'list'>\n",
      "i: True,Data Type : <class 'bool'>\n",
      "i: {'name': 'anees', 'age': '27'},Data Type : <class 'dict'>\n",
      "i: False,Data Type : <class 'bool'>\n",
      "i: (10, 20, 30),Data Type : <class 'tuple'>\n",
      "i: king,Data Type : <class 'str'>\n"
     ]
    }
   ],
   "source": [
    "#Answer4\n",
    "#example of list of length 10 with different types of data and using a loop print each element along with its data types.\n",
    "l=[2,\"Anees\",42.56,[3,4,5,6],True,{'name' : 'anees','age' : '27'},False,(10,20,30),'king']\n",
    "for i in l:\n",
    "    print(f\"i: {i},Data Type : {type(i)}\")\n"
   ]
  },
  {
   "cell_type": "code",
   "execution_count": 5,
   "id": "628c87a8-c0b0-4222-b81d-26c820d54374",
   "metadata": {},
   "outputs": [
    {
     "name": "stdout",
     "output_type": "stream",
     "text": [
      "a is divisible by b 1 times.\n"
     ]
    }
   ],
   "source": [
    "#Answer5\n",
    "a=50\n",
    "b=2\n",
    "count=0\n",
    "\n",
    "while a%b==0:\n",
    "    a=a/b\n",
    "count+=1\n",
    "print(f\"a is divisible by b {count} times.\")"
   ]
  },
  {
   "cell_type": "code",
   "execution_count": 28,
   "id": "21d3489d-3eb3-4040-a655-bf9f5a5617a4",
   "metadata": {},
   "outputs": [
    {
     "name": "stdout",
     "output_type": "stream",
     "text": [
      "i is divisible by 3\n",
      "i is not devisible by 3\n",
      "i is not devisible by 3\n",
      "i is divisible by 3\n",
      "i is not devisible by 3\n",
      "i is divisible by 3\n",
      "i is not devisible by 3\n",
      "i is divisible by 3\n",
      "i is divisible by 3\n",
      "i is divisible by 3\n",
      "i is divisible by 3\n",
      "i is divisible by 3\n",
      "i is not devisible by 3\n",
      "i is not devisible by 3\n",
      "i is divisible by 3\n",
      "i is divisible by 3\n",
      "i is not devisible by 3\n",
      "i is divisible by 3\n",
      "i is divisible by 3\n",
      "i is not devisible by 3\n",
      "i is not devisible by 3\n",
      "i is not devisible by 3\n",
      "i is divisible by 3\n",
      "i is not devisible by 3\n",
      "i is divisible by 3\n"
     ]
    }
   ],
   "source": [
    "#Answer6\n",
    "l=[12,14,25,27,32,33,49,45,51,18,6,96,77,19,57,69,23,21,93,82,101,479,99,251,300]\n",
    "for i in l:\n",
    "    if i % 3==0 :\n",
    "        print(\"i is divisible by 3\")\n",
    "    else :\n",
    "        print(\"i is not devisible by 3\")"
   ]
  },
  {
   "cell_type": "code",
   "execution_count": 9,
   "id": "15426632-d79b-4eda-b641-eea4324a7159",
   "metadata": {},
   "outputs": [],
   "source": [
    "#Answer7\n",
    "#Mutable data types are those whose values can be modified at perticular indexes after they are created.\n",
    "#examples of mutable data types is list,dictionaries,sets.\n",
    "l=[2,3,4,'Anees',23.44,True]"
   ]
  },
  {
   "cell_type": "code",
   "execution_count": 10,
   "id": "ba83a3c8-463c-4c8b-bbfb-a6df5b7f3fa9",
   "metadata": {},
   "outputs": [],
   "source": [
    "l[1]=300"
   ]
  },
  {
   "cell_type": "code",
   "execution_count": 11,
   "id": "e1828a1e-0301-4000-93cf-3eba614f3abd",
   "metadata": {},
   "outputs": [
    {
     "data": {
      "text/plain": [
       "[2, 300, 4, 'Anees', 23.44, True]"
      ]
     },
     "execution_count": 11,
     "metadata": {},
     "output_type": "execute_result"
    }
   ],
   "source": [
    "l"
   ]
  },
  {
   "cell_type": "code",
   "execution_count": 12,
   "id": "888c406c-81f6-4877-a35c-9a6b62924e18",
   "metadata": {},
   "outputs": [],
   "source": [
    "#Immutable data types are those whose values can not e modified aftrer they created.Any operation on an immutable object results in the creation of new object.\n",
    "#examples of immutable of data types include integers,floats,bolians,strings and tuples.\n",
    "s=\"Anees\""
   ]
  },
  {
   "cell_type": "code",
   "execution_count": 14,
   "id": "4681ab42-9565-44e0-9a86-4c52eb71c3dd",
   "metadata": {},
   "outputs": [
    {
     "data": {
      "text/plain": [
       "'A'"
      ]
     },
     "execution_count": 14,
     "metadata": {},
     "output_type": "execute_result"
    }
   ],
   "source": [
    "s[0]"
   ]
  },
  {
   "cell_type": "code",
   "execution_count": 16,
   "id": "ae7f81f6-3a31-4f09-a071-ebf3351e7b96",
   "metadata": {},
   "outputs": [
    {
     "ename": "TypeError",
     "evalue": "'str' object does not support item assignment",
     "output_type": "error",
     "traceback": [
      "\u001b[0;31m---------------------------------------------------------------------------\u001b[0m",
      "\u001b[0;31mTypeError\u001b[0m                                 Traceback (most recent call last)",
      "Cell \u001b[0;32mIn[16], line 1\u001b[0m\n\u001b[0;32m----> 1\u001b[0m \u001b[43ms\u001b[49m\u001b[43m[\u001b[49m\u001b[38;5;241;43m0\u001b[39;49m\u001b[43m]\u001b[49m\u001b[38;5;241m=\u001b[39m\u001b[38;5;124m\"\u001b[39m\u001b[38;5;124mT\u001b[39m\u001b[38;5;124m\"\u001b[39m\n",
      "\u001b[0;31mTypeError\u001b[0m: 'str' object does not support item assignment"
     ]
    }
   ],
   "source": [
    "s[0]=\"T\""
   ]
  },
  {
   "cell_type": "code",
   "execution_count": null,
   "id": "dbff1244-f6fb-4f7e-98ad-f61e6c28473a",
   "metadata": {},
   "outputs": [],
   "source": []
  }
 ],
 "metadata": {
  "kernelspec": {
   "display_name": "Python 3 (ipykernel)",
   "language": "python",
   "name": "python3"
  },
  "language_info": {
   "codemirror_mode": {
    "name": "ipython",
    "version": 3
   },
   "file_extension": ".py",
   "mimetype": "text/x-python",
   "name": "python",
   "nbconvert_exporter": "python",
   "pygments_lexer": "ipython3",
   "version": "3.10.8"
  }
 },
 "nbformat": 4,
 "nbformat_minor": 5
}
