{
 "cells": [
  {
   "cell_type": "markdown",
   "id": "8a2a18f3-f73a-4244-b3f3-6b394b564cf9",
   "metadata": {},
   "source": [
    "#Answer1\n",
    "When creating a custom exception in Python, it is recommended to inherit from the base Exception class or one of its subclasses.\n",
    "The Exception class serves as the base class for all exceptions in Python, and it provides a standardized structure and behavior for exceptions.\n",
    "\n",
    "Here are a few reasons why it is beneficial to inherit from the Exception class:\n",
    "\n",
    "1-Consistency: Inheriting from the Exception class ensures that your custom exception follows the same interface and behavior as other built-in exceptions. This makes your code consistent with the rest of the Python ecosystem and adheres to the established conventions.\n",
    "\n",
    "2-Compatibility: By inheriting from the Exception class, your custom exception can be caught using a broader exception handler, \n",
    "such as except Exception, which will catch both built-in exceptions and your custom exception. This allows for more flexible and generic error handling in your code.\n",
    "\n",
    "3-Error Hierarchy: The Exception class is the root of the exception hierarchy in Python. It forms the base for various specialized exception classes, such as ValueError, TypeError, FileNotFoundError, etc. By inheriting from Exception, you can create a well-organized hierarchy of exceptions in your application, with your custom exception fitting into this hierarchy as needed.\n",
    "\n",
    "4-Built-in Functionality: The Exception class provides useful functionality and attributes that can be utilized in your custom exception.\n",
    "For example, it includes the args attribute, which stores the arguments passed to the exception constructor, making it easier to retrieve and display relevant information about the exception.\n",
    "\n",
    "Inheriting from the Exception class allows your custom exception to integrate seamlessly with the existing exception system in Python.\n",
    "It ensures consistency, compatibility, and the availability of built-in functionality, making it easier to handle, catch, and differentiate your custom exception from other exceptions in your codebase."
   ]
  },
  {
   "cell_type": "code",
   "execution_count": 5,
   "id": "4d9d61a3-6d29-41f8-8545-60b1635e182f",
   "metadata": {},
   "outputs": [],
   "source": [
    "#Answer2\n",
    "import logging\n",
    "\n",
    "def print_exception_hierarchy(exception_class, indent=0):\n",
    "    logging.info(\" \" * indent + exception_class.__name__)\n",
    "    for subclass in exception_class.__subclasses__():\n",
    "        print_exception_hierarchy(subclass, indent + 4)\n",
    "\n",
    "# Configure logging to write to a file\n",
    "logging.basicConfig(filename='exception_hierarchy.log', level=logging.INFO)\n",
    "\n",
    "# Print the exception hierarchy starting from the base Exception class\n",
    "print_exception_hierarchy(Exception)"
   ]
  },
  {
   "cell_type": "markdown",
   "id": "e285b9af-e787-4adf-866e-aca051609770",
   "metadata": {},
   "source": [
    "#Answer3\n",
    "The ArithmeticError class in Python is a base class for exceptions that occur during arithmetic operations.\n",
    "It represents errors related to mathematical calculations and operations. Some errors defined in the ArithmeticError class are:\n",
    "\n",
    "1-ZeroDivisionError: This error occurs when a division or modulo operation is performed with zero as the divisor.\n",
    "It indicates an attempt to divide a number by zero.\n",
    "\n",
    "Example:"
   ]
  },
  {
   "cell_type": "code",
   "execution_count": 52,
   "id": "4a6aee56-0588-46c2-b25c-de32e70a95bd",
   "metadata": {},
   "outputs": [
    {
     "name": "stdout",
     "output_type": "stream",
     "text": [
      "Error: division by zero\n"
     ]
    }
   ],
   "source": [
    "try:\n",
    "    result = 10 / 0\n",
    "except ZeroDivisionError as e:\n",
    "    print(\"Error:\", str(e))"
   ]
  },
  {
   "cell_type": "markdown",
   "id": "1e15726b-16f7-4185-9399-21cc6ddb9e9d",
   "metadata": {},
   "source": [
    "2-OverflowError: This error occurs when a calculation exceeds the maximum limit of a numeric type.\n",
    "It indicates that the result of an arithmetic operation is too large to be represented within the given numeric type.\n",
    "\n",
    "Example:"
   ]
  },
  {
   "cell_type": "code",
   "execution_count": 51,
   "id": "8f4faac4-cc18-468f-9fa6-eeb90566c8de",
   "metadata": {},
   "outputs": [],
   "source": [
    "import logging\n",
    "\n",
    "# Configure logging to write to a file\n",
    "logging.basicConfig(filename='overflow_error.log', level=logging.ERROR)\n",
    "\n",
    "def perform_calculation():\n",
    "    try:\n",
    "        result = 2 ** 10000\n",
    "        logging.info(\"Calculation result: {}\".format(result))\n",
    "        return result\n",
    "    except OverflowError as e:\n",
    "        logging.exception(\"Error occurred: Overflow\")\n",
    "        raise\n",
    "\n",
    "try:\n",
    "    perform_calculation()\n",
    "except OverflowError:\n",
    "    print(\"Error: Overflow occurred\")"
   ]
  },
  {
   "cell_type": "markdown",
   "id": "7d622b8f-859b-4e75-83d2-af7b01e00421",
   "metadata": {},
   "source": [
    "#Answer4\n",
    "\n",
    "The LookupError class in Python is a base class for exceptions that occur when a lookup or indexing operation fails.\n",
    "It represents errors related to accessing elements or values from a collection or data structure.\n",
    "The LookupError class serves as a parent class for more specific lookup-related exceptions, such as KeyError and IndexError.\n",
    "\n",
    "Let's explore KeyError and IndexError as examples of subclasses of LookupError:\n",
    "\n",
    "1-KeyError:\n",
    "The KeyError exception occurs when you try to access a dictionary using a key that does not exist in the dictionary.\n",
    "\n",
    "Example:"
   ]
  },
  {
   "cell_type": "code",
   "execution_count": 53,
   "id": "c8f65786-1d9f-4e23-9dd3-551885524613",
   "metadata": {},
   "outputs": [
    {
     "name": "stdout",
     "output_type": "stream",
     "text": [
      "Error: Key does not exist in the dictionary\n"
     ]
    }
   ],
   "source": [
    "my_dict = {'a': 1, 'b': 2, 'c': 3}\n",
    "try:\n",
    "    value = my_dict['d']\n",
    "except KeyError:\n",
    "    print(\"Error: Key does not exist in the dictionary\")"
   ]
  },
  {
   "cell_type": "markdown",
   "id": "86c9dc77-c348-4688-95a1-e3bd7a7cacd4",
   "metadata": {},
   "source": [
    "2-IndexError:\n",
    "The IndexError exception occurs when you try to access an invalid index in a sequence like a list or a string.\n",
    "It indicates that the index is out of range or does not exist in the given sequence.\n",
    "\n",
    "Example:"
   ]
  },
  {
   "cell_type": "code",
   "execution_count": 54,
   "id": "7663abab-8117-4e40-b88f-28a609d9b6ad",
   "metadata": {},
   "outputs": [
    {
     "name": "stdout",
     "output_type": "stream",
     "text": [
      "Error: Index is out of range\n"
     ]
    }
   ],
   "source": [
    "my_list = [1, 2, 3]\n",
    "try:\n",
    "    value = my_list[3]\n",
    "except IndexError:\n",
    "    print(\"Error: Index is out of range\")"
   ]
  },
  {
   "cell_type": "markdown",
   "id": "693f417f-e4ce-4e0a-8d68-a82798496bb6",
   "metadata": {},
   "source": [
    "#Answer5\n",
    "\n",
    "ImportError is a base class for exceptions that occur when there is an issue with importing a module or accessing an attribute from a module in Python. It indicates that the requested module or attribute cannot be found, or there is a problem with importing it.\n",
    "\n",
    "When an ImportError occurs, it typically means one of the following situations:\n",
    "\n",
    "Module Not Found: The Python interpreter cannot locate the module you are trying to import. This can happen if the module is not installed or if the module file is not in the search path.\n",
    "\n",
    "Example:"
   ]
  },
  {
   "cell_type": "code",
   "execution_count": 56,
   "id": "c0c32237-8547-4f8a-8f89-5ce89c94c47b",
   "metadata": {},
   "outputs": [
    {
     "name": "stdout",
     "output_type": "stream",
     "text": [
      "Error: Module not found or cannot be imported\n"
     ]
    }
   ],
   "source": [
    "try:\n",
    "    import non_existent_module\n",
    "except ImportError:\n",
    "    print(\"Error: Module not found or cannot be imported\")"
   ]
  },
  {
   "cell_type": "code",
   "execution_count": 57,
   "id": "8cfe8739-0d7a-4ee2-8af9-51f6d7190636",
   "metadata": {},
   "outputs": [
    {
     "name": "stdout",
     "output_type": "stream",
     "text": [
      "division by zero\n"
     ]
    }
   ],
   "source": [
    "#Answer6\n",
    "#some best practices for exception handling in python\n",
    "\n",
    "#use always a specific exception\n",
    "try :\n",
    "    10/0\n",
    "except ZeroDivisionError as e:\n",
    "    print(e)"
   ]
  },
  {
   "cell_type": "code",
   "execution_count": 58,
   "id": "cd34e062-391c-47e4-91b6-18a9dc9e252e",
   "metadata": {},
   "outputs": [
    {
     "name": "stdout",
     "output_type": "stream",
     "text": [
      "I am trying to handle a ZeroDivision error division by zero\n"
     ]
    }
   ],
   "source": [
    "#print always a proper message\n",
    "try :\n",
    "    10/0\n",
    "except ZeroDivisionError as e:\n",
    "    print(\"I am trying to handle a ZeroDivision error\" , e )"
   ]
  },
  {
   "cell_type": "code",
   "execution_count": 59,
   "id": "51a6d4f8-39f0-4c39-a355-2c3feac78c4f",
   "metadata": {},
   "outputs": [],
   "source": [
    "#always try to log your error\n",
    "import logging\n",
    "logging.basicConfig(filename = \"error.log\", level = logging.ERROR)\n",
    "try :\n",
    "    10/0\n",
    "except ZeroDivisionError as e :\n",
    "    logging.error(\"i am trying to handle a zerodivison error{}\".format(e) )"
   ]
  },
  {
   "cell_type": "code",
   "execution_count": 60,
   "id": "48943b58-610d-4bac-a129-d6934f901b3a",
   "metadata": {},
   "outputs": [],
   "source": [
    "#always avoid to write a multiple exception handling\n",
    "try :\n",
    "    10/0\n",
    "except FileNotFoundError as e :\n",
    "    logging.error(\"i am handling file not found {} \".format(e) )\n",
    "except AttributeError as e :\n",
    "    logging.error(\"i am handling Attribute {} \" .format(e) )\n",
    "except ZeroDivisionError as e :\n",
    "    logging.error(\"i am handling ZeroDivision error {} \" .format(e) )"
   ]
  },
  {
   "cell_type": "code",
   "execution_count": 61,
   "id": "999d0e85-3bbc-4b12-8134-b64380819303",
   "metadata": {},
   "outputs": [],
   "source": [
    "#document all the error\n",
    "#cleanup all the resources\n",
    "try :\n",
    "    with open(\"text10.txt\" , 'w') as f:\n",
    "        f.write(\"this is my data to file\")\n",
    "except FileNotFoundError as e :\n",
    "    logging.error(\"i am handling file not found {} \".format(e) )\n",
    "finally :\n",
    "    f.close()"
   ]
  },
  {
   "cell_type": "code",
   "execution_count": null,
   "id": "145a7de7-7524-44dc-a8cd-0484626b5c4b",
   "metadata": {},
   "outputs": [],
   "source": []
  }
 ],
 "metadata": {
  "kernelspec": {
   "display_name": "Python 3 (ipykernel)",
   "language": "python",
   "name": "python3"
  },
  "language_info": {
   "codemirror_mode": {
    "name": "ipython",
    "version": 3
   },
   "file_extension": ".py",
   "mimetype": "text/x-python",
   "name": "python",
   "nbconvert_exporter": "python",
   "pygments_lexer": "ipython3",
   "version": "3.10.8"
  }
 },
 "nbformat": 4,
 "nbformat_minor": 5
}
