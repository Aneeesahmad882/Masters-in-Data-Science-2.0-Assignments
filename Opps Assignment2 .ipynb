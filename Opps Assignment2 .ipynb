{
 "cells": [
  {
   "cell_type": "markdown",
   "id": "f3807739-e7f8-44a1-bca8-874f036c5d2b",
   "metadata": {},
   "source": [
    "#Answer1\n",
    "\n",
    "Abstraction:\n",
    "\n",
    "Abstraction is the process of representing complex real-world entities as simplified models in software systems.\n",
    "It focuses on the essential characteristics and behavior of objects while hiding the unnecessary details.\n",
    "Abstraction allows you to create abstract classes or interfaces that define common properties and methods shared by a group of related objects.\n",
    "It helps in managing complexity, creating modular systems, and providing a simplified and intuitive interface for interacting with objects.\n",
    "\n",
    "example :"
   ]
  },
  {
   "cell_type": "code",
   "execution_count": 1,
   "id": "dc7b6c88-8bc1-489a-a041-007f8e1f8e16",
   "metadata": {},
   "outputs": [],
   "source": [
    "import abc\n",
    "\n",
    "class pwskills:\n",
    "    \n",
    "    @abc.abstractmethod\n",
    "    def students_details(self):\n",
    "        pass\n",
    "    \n",
    "    @abc.abstractmethod\n",
    "    def students_assignment(self):\n",
    "        pass\n",
    "    \n",
    "    @abc.abstractmethod\n",
    "    def students_marks(self):\n",
    "        pass\n",
    "    "
   ]
  },
  {
   "cell_type": "code",
   "execution_count": 2,
   "id": "30f2b990-8440-44d0-b68d-e526738440d8",
   "metadata": {},
   "outputs": [],
   "source": [
    "class students_details(pwskills):\n",
    "    \n",
    "    def students_details(self):\n",
    "        return \"this is a meth for taking students details\"\n",
    "    \n",
    "    def students_assignment(self):\n",
    "        return \"this is a meth for assign details for a perticular student\""
   ]
  },
  {
   "cell_type": "code",
   "execution_count": 3,
   "id": "be2b3234-6895-48f3-8132-15555d00acb8",
   "metadata": {},
   "outputs": [],
   "source": [
    "class data_science_masters(pwskills):\n",
    "    \n",
    "    def students_details(self):\n",
    "        return \"this will return a student details for data science master\"\n",
    "    \n",
    "    def studens_assignment(self):\n",
    "        return \"this will give you a student assignment details for a particular student\""
   ]
  },
  {
   "cell_type": "code",
   "execution_count": 4,
   "id": "26538d86-4566-464d-b97e-224981fb82f3",
   "metadata": {},
   "outputs": [
    {
     "data": {
      "text/plain": [
       "'this will return a student details for data science master'"
      ]
     },
     "execution_count": 4,
     "metadata": {},
     "output_type": "execute_result"
    }
   ],
   "source": [
    "dsm = data_science_masters()\n",
    "dsm.students_details()"
   ]
  },
  {
   "cell_type": "markdown",
   "id": "4677797b-4dbe-461b-a44b-b9c9dd95e120",
   "metadata": {},
   "source": [
    "#Answer2\n",
    "\n",
    "Abstraction:\n",
    "\n",
    "Abstraction is the process of representing complex real-world entities as simplified models in software systems.\n",
    "It focuses on the essential characteristics and behavior of objects while hiding the unnecessary details.\n",
    "Abstraction allows you to create abstract classes or interfaces that define common properties and methods shared by a group of related objects.\n",
    "It helps in managing complexity, creating modular systems, and providing a simplified and intuitive interface for interacting with objects.\n",
    "\n",
    "Example of Abstraction in Python:\n",
    "Consider a \"Shape\" hierarchy where we have different types of shapes such as circles, rectangles, and triangles. We can define an abstract base class called \"Shape\" with common methods like calculating the area and perimeter."
   ]
  },
  {
   "cell_type": "code",
   "execution_count": 13,
   "id": "85c0d8ac-837e-4ee6-92ca-2bc818c3a8f3",
   "metadata": {},
   "outputs": [],
   "source": [
    "from abc import ABC, abstractmethod\n",
    "\n",
    "class Shape(ABC):\n",
    "    @abstractmethod\n",
    "    def calculate_area(self):\n",
    "        pass\n",
    "\n",
    "    @abstractmethod\n",
    "    def calculate_perimeter(self):\n",
    "        pass"
   ]
  },
  {
   "cell_type": "code",
   "execution_count": 14,
   "id": "30ed8b76-4ca5-4fc9-9cf9-c20880ee95fb",
   "metadata": {},
   "outputs": [],
   "source": [
    "import math\n",
    "\n",
    "class Circle(Shape):\n",
    "    def __init__(self, radius):\n",
    "        self.radius = radius\n",
    "\n",
    "    def calculate_area(self):\n",
    "        return math.pi * self.radius**2\n",
    "\n",
    "    def calculate_perimeter(self):\n",
    "        return 2 * math.pi * self.radius\n"
   ]
  },
  {
   "cell_type": "markdown",
   "id": "fd0e354c-8302-4990-82ee-c61780360d32",
   "metadata": {},
   "source": [
    "Encapsulation:\n",
    "\n",
    "Encapsulation is the process of bundling data and methods together into a single unit, called a class, and hiding the internal details of an object from the outside world.\n",
    "It provides data abstraction by ensuring that data can only be accessed through well-defined methods, also known as getters and setters.\n",
    "Encapsulation allows for better control over access to the internal state of an object, ensuring that the data is accessed and modified in a controlled manner.\n",
    "It helps in achieving data security, code maintainability, and flexibility in changing the internal implementation of an object without affecting other parts of the code.\n",
    "\n",
    "Example of Encapsulation in Python:\n",
    "Let's consider a class called \"BankAccount\" that represents a bank account with a balance. We can encapsulate the balance data by making it private and providing public methods (getters and setters) to access and modify the balance. By encapsulating the balance, we can enforce validation rules, perform additional operations when accessing or modifying the balance, and ensure that the balance is not accessed directly from outside the class, maintaining the integrity of the account."
   ]
  },
  {
   "cell_type": "code",
   "execution_count": 9,
   "id": "ddb8d9b1-39c6-40d1-ae54-13050ac0e175",
   "metadata": {},
   "outputs": [],
   "source": [
    "class BankAccount:\n",
    "    def __init__(self):\n",
    "        self._balance = 0\n",
    "\n",
    "    def get_balance(self):\n",
    "        return self._balance\n",
    "\n",
    "    def deposit(self, amount):\n",
    "        self._balance += amount\n",
    "\n",
    "    def withdraw(self, amount):\n",
    "        if amount <= self._balance:\n",
    "            self._balance -= amount\n",
    "        else:\n",
    "            print(\"Insufficient funds\")\n"
   ]
  },
  {
   "cell_type": "markdown",
   "id": "8a29223c-b999-4068-a9c9-3814737df406",
   "metadata": {},
   "source": [
    "#Answer3\n",
    "\n",
    "The abc module in Python stands for Abstract Base Classes. It is a built-in module that provides the infrastructure for defining abstract base classes.\n",
    "\n",
    "An abstract base class (ABC) is a class that cannot be instantiated and serves as a blueprint for creating related concrete subclasses. Abstract base classes define a common interface and can specify certain methods as abstract, which means they must be implemented by any concrete subclass.\n",
    "\n",
    "The abc module is used for the following purposes:\n",
    "\n",
    "1-Defining Abstract Base Classes: The abc module provides the ABC class, which is used as a base class for creating abstract base classes. By inheriting from ABC, a class becomes an abstract base class. Abstract base classes can define abstract methods that must be implemented by any concrete subclass.\n",
    "\n",
    "2-Marking Methods as Abstract: The abc module provides the abstractmethod decorator, which is used to mark a method as abstract within an abstract base class. Abstract methods are defined without an implementation and serve as placeholders for concrete subclasses to provide their own implementation.\n",
    "\n",
    "3-Enforcing Method Implementation: Abstract base classes can be used to define a common interface or set of methods that subclasses are required to implement. By inheriting from an abstract base class, a concrete subclass is forced to provide implementations for all abstract methods defined in the base class.\n",
    "\n",
    "The abc module and abstract base classes are useful for achieving abstraction, polymorphism, and code reusability in Python. They allow you to define common behaviors, enforce method implementation, and create modular systems by providing a clear and standardized interface for interacting with objects."
   ]
  },
  {
   "cell_type": "markdown",
   "id": "514597af-73aa-4e7c-9da2-f0b0fb7350ea",
   "metadata": {},
   "source": [
    "#Answer4\n",
    "\n",
    "In Python, we can achieve data abstraction through the use of classes, access modifiers, and properties. Data abstraction refers to the concept of hiding the internal representation and implementation details of an object and exposing only the essential information and functionalities to the outside world. Here's how we can achieve data abstraction:\n",
    "\n",
    "1-Classes: Classes provide a way to encapsulate related data and functions into a single unit. By defining a class, you can group data and methods together, representing a real-world entity or concept. The internal details of the class, such as its data attributes and implementation logic, are hidden from the outside world, promoting abstraction.\n",
    "\n",
    "2-Access Modifiers: Python uses naming conventions to indicate the accessibility of class members. By convention, attributes and methods prefixed with a single underscore (_) are considered \"protected,\" indicating that they are intended for internal use within the class or its subclasses. Attributes and methods prefixed with a double underscore (__) are considered \"private,\" indicating that they are intended for internal use within the class only. Although Python doesn't strictly enforce access restrictions, these naming conventions signal to developers the intended visibility and encourage encapsulation.\n",
    "\n",
    "3-Properties: Properties allow us to define getter and setter methods to control the access to class attributes. By using properties, we can expose specific attributes to the outside world while enforcing data validation and encapsulation. Properties provide a way to access and modify attribute values indirectly, ensuring that the necessary checks and operations are performed during access or modification.\n",
    "\n",
    "Here's an example that demonstrates data abstraction in Python:"
   ]
  },
  {
   "cell_type": "code",
   "execution_count": 15,
   "id": "4efef725-fe3c-4a2f-8ab1-28f5cf941abd",
   "metadata": {},
   "outputs": [],
   "source": [
    "class BankAccount:\n",
    "    def __init__(self):\n",
    "        self._balance = 0\n",
    "\n",
    "    @property\n",
    "    def balance(self):\n",
    "        return self._balance\n",
    "\n",
    "    def deposit(self, amount):\n",
    "        if amount > 0:\n",
    "            self._balance += amount\n",
    "\n",
    "    def withdraw(self, amount):\n",
    "        if amount <= self._balance:\n",
    "            self._balance -= amount\n",
    "        else:\n",
    "            print(\"Insufficient funds\")\n"
   ]
  },
  {
   "cell_type": "code",
   "execution_count": 16,
   "id": "d3b1eb05-829b-450a-9738-0a4cb4be1e9d",
   "metadata": {},
   "outputs": [],
   "source": [
    "account = BankAccount()"
   ]
  },
  {
   "cell_type": "code",
   "execution_count": 17,
   "id": "b65b9a99-d991-4439-aa21-55a3a50bc9a6",
   "metadata": {},
   "outputs": [
    {
     "name": "stdout",
     "output_type": "stream",
     "text": [
      "100\n"
     ]
    }
   ],
   "source": [
    "account.deposit(100)\n",
    "print(account.balance)"
   ]
  },
  {
   "cell_type": "code",
   "execution_count": 18,
   "id": "92ae8f46-82d6-47ea-b992-4a9d02e141ad",
   "metadata": {},
   "outputs": [
    {
     "name": "stdout",
     "output_type": "stream",
     "text": [
      "50\n"
     ]
    }
   ],
   "source": [
    "account.withdraw(50)\n",
    "print(account.balance)"
   ]
  },
  {
   "cell_type": "markdown",
   "id": "114cc2e5-239e-47d4-86eb-2b87ca8f6abf",
   "metadata": {},
   "source": [
    "#Answer5\n",
    "\n",
    "No, we cannot create an instance of an abstract class directly. An abstract class is a class that is meant to be subclassed and serves as a blueprint for creating concrete subclasses. It is designed to be incomplete and is meant to be extended and implemented by its subclasses.\n",
    "\n",
    "Abstract classes are created using the abc module in Python, and they can contain abstract methods that have no implementation. These abstract methods act as placeholders and must be implemented by any concrete subclass before they can be instantiated.\n",
    "\n",
    "Attempting to create an instance of an abstract class directly will raise a TypeError. The purpose of an abstract class is to provide a common interface and define common behavior for its subclasses. It serves as a conceptual base and should not be instantiated on its own since it lacks complete functionality.\n",
    "\n",
    "To create an object of a class derived from an abstract class, we need to define a concrete subclass that inherits from the abstract class and provides implementations for all the abstract methods. Then, we can instantiate objects of the concrete subclass, which will have the complete functionality defined in the abstract class along with any additional functionality added in the concrete subclass.\n",
    "\n",
    "Here's an example to illustrate the concept:"
   ]
  },
  {
   "cell_type": "code",
   "execution_count": 19,
   "id": "4df48faa-a4d5-423b-82ea-25f8decb3505",
   "metadata": {},
   "outputs": [],
   "source": [
    "from abc import ABC, abstractmethod\n",
    "\n",
    "class AbstractClass(ABC):\n",
    "    @abstractmethod\n",
    "    def abstract_method(self):\n",
    "        pass\n",
    "\n",
    "class ConcreteClass(AbstractClass):\n",
    "    def abstract_method(self):\n",
    "        print(\"Implementation of abstract method\")"
   ]
  },
  {
   "cell_type": "code",
   "execution_count": 20,
   "id": "62aecc41-3baf-41f6-b269-d7b476110ed8",
   "metadata": {},
   "outputs": [
    {
     "ename": "TypeError",
     "evalue": "Can't instantiate abstract class AbstractClass with abstract method abstract_method",
     "output_type": "error",
     "traceback": [
      "\u001b[0;31m---------------------------------------------------------------------------\u001b[0m",
      "\u001b[0;31mTypeError\u001b[0m                                 Traceback (most recent call last)",
      "Cell \u001b[0;32mIn[20], line 1\u001b[0m\n\u001b[0;32m----> 1\u001b[0m abstract_obj \u001b[38;5;241m=\u001b[39m \u001b[43mAbstractClass\u001b[49m\u001b[43m(\u001b[49m\u001b[43m)\u001b[49m\n",
      "\u001b[0;31mTypeError\u001b[0m: Can't instantiate abstract class AbstractClass with abstract method abstract_method"
     ]
    }
   ],
   "source": [
    "abstract_obj = AbstractClass()"
   ]
  },
  {
   "cell_type": "code",
   "execution_count": 22,
   "id": "9ba92f2f-e84d-44e7-9057-f2d5cfc673bd",
   "metadata": {},
   "outputs": [],
   "source": [
    "concrete_obj = ConcreteClass()"
   ]
  },
  {
   "cell_type": "code",
   "execution_count": 24,
   "id": "f814b482-6de1-4a20-a3ff-98c723d88806",
   "metadata": {},
   "outputs": [
    {
     "name": "stdout",
     "output_type": "stream",
     "text": [
      "Implementation of abstract method\n"
     ]
    }
   ],
   "source": [
    "concrete_obj.abstract_method()"
   ]
  },
  {
   "cell_type": "code",
   "execution_count": null,
   "id": "680736d1-4145-4397-a931-2c1a86ae6ad4",
   "metadata": {},
   "outputs": [],
   "source": []
  }
 ],
 "metadata": {
  "kernelspec": {
   "display_name": "Python 3 (ipykernel)",
   "language": "python",
   "name": "python3"
  },
  "language_info": {
   "codemirror_mode": {
    "name": "ipython",
    "version": 3
   },
   "file_extension": ".py",
   "mimetype": "text/x-python",
   "name": "python",
   "nbconvert_exporter": "python",
   "pygments_lexer": "ipython3",
   "version": "3.10.8"
  }
 },
 "nbformat": 4,
 "nbformat_minor": 5
}
